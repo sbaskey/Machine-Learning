{
 "cells": [
  {
   "cell_type": "code",
   "execution_count": 1,
   "metadata": {},
   "outputs": [],
   "source": [
    "import numpy as np\n",
    "import pandas as pd\n",
    "import matplotlib.pyplot as plt\n",
    "from sklearn.model_selection import GridSearchCV\n",
    "from sklearn.model_selection import cross_val_score\n",
    "from sklearn import metrics\n",
    "\n",
    "%matplotlib inline"
   ]
  },
  {
   "cell_type": "code",
   "execution_count": 2,
   "metadata": {},
   "outputs": [],
   "source": [
    "from sklearn.neural_network import MLPClassifier\n",
    "ann_model = MLPClassifier()"
   ]
  },
  {
   "cell_type": "code",
   "execution_count": 11,
   "metadata": {},
   "outputs": [],
   "source": [
    "\n",
    "input_data = pd.read_excel('C:\\\\Users\\\\jp\\\\Desktop\\\\testData\\\\marketing_campaign.xls')"
   ]
  },
  {
   "cell_type": "code",
   "execution_count": 12,
   "metadata": {
    "scrolled": true
   },
   "outputs": [
    {
     "data": {
      "text/html": [
       "<div>\n",
       "<style scoped>\n",
       "    .dataframe tbody tr th:only-of-type {\n",
       "        vertical-align: middle;\n",
       "    }\n",
       "\n",
       "    .dataframe tbody tr th {\n",
       "        vertical-align: top;\n",
       "    }\n",
       "\n",
       "    .dataframe thead th {\n",
       "        text-align: right;\n",
       "    }\n",
       "</style>\n",
       "<table border=\"1\" class=\"dataframe\">\n",
       "  <thead>\n",
       "    <tr style=\"text-align: right;\">\n",
       "      <th></th>\n",
       "      <th>Age</th>\n",
       "      <th>Experience</th>\n",
       "      <th>Income</th>\n",
       "      <th>Family</th>\n",
       "      <th>CCAvg</th>\n",
       "      <th>Education</th>\n",
       "      <th>Mortgage</th>\n",
       "      <th>Securities Account</th>\n",
       "      <th>CD Account</th>\n",
       "      <th>Online</th>\n",
       "      <th>CreditCard</th>\n",
       "      <th>Offer_acceptance</th>\n",
       "    </tr>\n",
       "  </thead>\n",
       "  <tbody>\n",
       "    <tr>\n",
       "      <th>0</th>\n",
       "      <td>25</td>\n",
       "      <td>1</td>\n",
       "      <td>49</td>\n",
       "      <td>4</td>\n",
       "      <td>1.6</td>\n",
       "      <td>1</td>\n",
       "      <td>0</td>\n",
       "      <td>1</td>\n",
       "      <td>0</td>\n",
       "      <td>0</td>\n",
       "      <td>0</td>\n",
       "      <td>0</td>\n",
       "    </tr>\n",
       "    <tr>\n",
       "      <th>1</th>\n",
       "      <td>45</td>\n",
       "      <td>19</td>\n",
       "      <td>34</td>\n",
       "      <td>3</td>\n",
       "      <td>1.5</td>\n",
       "      <td>1</td>\n",
       "      <td>0</td>\n",
       "      <td>1</td>\n",
       "      <td>0</td>\n",
       "      <td>0</td>\n",
       "      <td>0</td>\n",
       "      <td>0</td>\n",
       "    </tr>\n",
       "    <tr>\n",
       "      <th>2</th>\n",
       "      <td>39</td>\n",
       "      <td>15</td>\n",
       "      <td>11</td>\n",
       "      <td>1</td>\n",
       "      <td>1.0</td>\n",
       "      <td>1</td>\n",
       "      <td>0</td>\n",
       "      <td>0</td>\n",
       "      <td>0</td>\n",
       "      <td>0</td>\n",
       "      <td>0</td>\n",
       "      <td>0</td>\n",
       "    </tr>\n",
       "    <tr>\n",
       "      <th>3</th>\n",
       "      <td>35</td>\n",
       "      <td>9</td>\n",
       "      <td>100</td>\n",
       "      <td>1</td>\n",
       "      <td>2.7</td>\n",
       "      <td>2</td>\n",
       "      <td>0</td>\n",
       "      <td>0</td>\n",
       "      <td>0</td>\n",
       "      <td>0</td>\n",
       "      <td>0</td>\n",
       "      <td>0</td>\n",
       "    </tr>\n",
       "    <tr>\n",
       "      <th>4</th>\n",
       "      <td>35</td>\n",
       "      <td>8</td>\n",
       "      <td>45</td>\n",
       "      <td>4</td>\n",
       "      <td>1.0</td>\n",
       "      <td>2</td>\n",
       "      <td>0</td>\n",
       "      <td>0</td>\n",
       "      <td>0</td>\n",
       "      <td>0</td>\n",
       "      <td>1</td>\n",
       "      <td>1</td>\n",
       "    </tr>\n",
       "  </tbody>\n",
       "</table>\n",
       "</div>"
      ],
      "text/plain": [
       "   Age  Experience  Income  Family  CCAvg  Education  Mortgage  \\\n",
       "0   25           1      49       4    1.6          1         0   \n",
       "1   45          19      34       3    1.5          1         0   \n",
       "2   39          15      11       1    1.0          1         0   \n",
       "3   35           9     100       1    2.7          2         0   \n",
       "4   35           8      45       4    1.0          2         0   \n",
       "\n",
       "   Securities Account  CD Account  Online  CreditCard  Offer_acceptance  \n",
       "0                   1           0       0           0                 0  \n",
       "1                   1           0       0           0                 0  \n",
       "2                   0           0       0           0                 0  \n",
       "3                   0           0       0           0                 0  \n",
       "4                   0           0       0           1                 1  "
      ]
     },
     "execution_count": 12,
     "metadata": {},
     "output_type": "execute_result"
    }
   ],
   "source": [
    "input_data.head()"
   ]
  },
  {
   "cell_type": "code",
   "execution_count": 13,
   "metadata": {},
   "outputs": [
    {
     "data": {
      "text/plain": [
       "(5000, 12)"
      ]
     },
     "execution_count": 13,
     "metadata": {},
     "output_type": "execute_result"
    }
   ],
   "source": [
    "input_data.shape"
   ]
  },
  {
   "cell_type": "code",
   "execution_count": 14,
   "metadata": {},
   "outputs": [],
   "source": [
    "# define features x and resopnse y\n",
    "x = input_data.drop(['Offer_acceptance'], axis=1)\n",
    "y = input_data['Offer_acceptance']"
   ]
  },
  {
   "cell_type": "code",
   "execution_count": 7,
   "metadata": {},
   "outputs": [
    {
     "data": {
      "text/plain": [
       "(5000, 11)"
      ]
     },
     "execution_count": 7,
     "metadata": {},
     "output_type": "execute_result"
    }
   ],
   "source": [
    "x.shape"
   ]
  },
  {
   "cell_type": "code",
   "execution_count": 15,
   "metadata": {},
   "outputs": [],
   "source": [
    "from sklearn.model_selection import train_test_split\n",
    "\n",
    "# split train and test data\n",
    "x_train, x_test, y_train, y_test = train_test_split(x, y )"
   ]
  },
  {
   "cell_type": "code",
   "execution_count": 26,
   "metadata": {},
   "outputs": [
    {
     "data": {
      "text/plain": [
       "0.8768"
      ]
     },
     "execution_count": 26,
     "metadata": {},
     "output_type": "execute_result"
    }
   ],
   "source": [
    "from sklearn.neural_network import MLPClassifier\n",
    "ann_model = MLPClassifier(hidden_layer_sizes=(10,5,8), activation='tanh')\n",
    "\n",
    "ann_model.fit(x_train, y_train)\n",
    "y_pred_test = ann_model.predict(x_test)\n",
    "\n",
    "metrics.accuracy_score(y_test, y_pred_test)"
   ]
  },
  {
   "cell_type": "code",
   "execution_count": 13,
   "metadata": {},
   "outputs": [
    {
     "data": {
      "text/plain": [
       "0.8744"
      ]
     },
     "execution_count": 13,
     "metadata": {},
     "output_type": "execute_result"
    }
   ],
   "source": [
    "from sklearn.ensemble import RandomForestClassifier\n",
    "RF = RandomForestClassifier()\n",
    "\n",
    "RF.fit(x_train, y_train)\n",
    "y_pred_test = RF.predict(x_test)\n",
    "\n",
    "metrics.accuracy_score(y_test, y_pred_test)"
   ]
  },
  {
   "cell_type": "code",
   "execution_count": 14,
   "metadata": {},
   "outputs": [
    {
     "data": {
      "text/plain": [
       "0.8032"
      ]
     },
     "execution_count": 14,
     "metadata": {},
     "output_type": "execute_result"
    }
   ],
   "source": [
    "from sklearn.svm import SVC\n",
    "svc = SVC()\n",
    "\n",
    "svc.fit(x_train, y_train)\n",
    "y_pred_test = svc.predict(x_test)\n",
    "\n",
    "metrics.accuracy_score(y_test, y_pred_test)"
   ]
  },
  {
   "cell_type": "code",
   "execution_count": 29,
   "metadata": {},
   "outputs": [
    {
     "data": {
      "text/plain": [
       "0.8256"
      ]
     },
     "execution_count": 29,
     "metadata": {},
     "output_type": "execute_result"
    }
   ],
   "source": [
    "ann_model = MLPClassifier(hidden_layer_sizes=(10))\n",
    "\n",
    "ann_model.fit(x_train, y_train)\n",
    "\n",
    "y_pred_test = ann_model.predict(x_test)\n",
    "\n",
    "metrics.accuracy_score(y_test, y_pred_test)\n"
   ]
  },
  {
   "cell_type": "code",
   "execution_count": 18,
   "metadata": {},
   "outputs": [
    {
     "data": {
      "text/plain": [
       "[array([[-4.40886310e-02, -1.61257397e-02, -1.22456293e-01,\n",
       "         -5.24862163e-02,  2.59791413e-01, -1.49078777e-05,\n",
       "          4.84732956e-01, -1.79889335e-02,  1.05369047e-01,\n",
       "         -3.53609953e-01],\n",
       "        [-1.16179136e-02, -2.24234636e-02,  3.60308743e-01,\n",
       "         -2.71472445e-01, -4.49001273e-01,  8.20213489e-11,\n",
       "         -2.64482394e-01,  1.26775049e-23, -3.77302807e-01,\n",
       "          3.76455649e-01],\n",
       "        [-2.50084413e-02, -5.73646190e-02, -2.71029876e-01,\n",
       "          4.15851037e-01,  2.23471962e-01, -1.12381282e-02,\n",
       "          7.67942430e-02, -1.84769171e-04, -4.66936233e-01,\n",
       "         -1.07571235e-01],\n",
       "        [-2.87546188e-02, -3.56344582e-04, -5.16172224e-01,\n",
       "         -2.24836814e-01, -5.14299909e-01,  9.53891092e-03,\n",
       "          7.43458459e-03,  2.96603232e-13,  1.18204962e-01,\n",
       "          2.07753707e-01],\n",
       "        [-2.38365047e-02,  3.58645915e-03,  4.74752725e-02,\n",
       "         -3.97405166e-02, -2.07422381e-01, -2.62879589e-03,\n",
       "          2.60099814e-01, -9.37735806e-04, -4.86480307e-01,\n",
       "          3.60522302e-02],\n",
       "        [-2.11458039e-02, -1.15144129e-02,  5.42860110e-01,\n",
       "          3.00684983e-01, -7.56695455e-01,  1.24265421e-04,\n",
       "         -1.49659873e-01, -2.17885959e-03, -2.90820368e-01,\n",
       "          1.45884219e-02],\n",
       "        [-7.19908707e-04, -1.29506162e-03, -2.03724689e-02,\n",
       "         -9.44395790e-02, -1.62109056e-01, -1.26376812e-06,\n",
       "         -3.01767225e-01, -8.87455837e-07,  1.05322725e-01,\n",
       "          2.74269512e-01],\n",
       "        [-7.06813467e-11, -3.94991723e-05, -3.72336675e-01,\n",
       "          1.06212067e-01, -4.71606009e-02,  9.09780746e-07,\n",
       "          1.74242715e-01,  1.92833915e-05, -1.61096863e-01,\n",
       "          1.23390953e-01],\n",
       "        [ 2.65317168e-06, -6.20077595e-03,  2.52371894e-01,\n",
       "          9.24732960e-01, -6.14079990e-01,  1.72881290e-04,\n",
       "          3.15931105e-01,  2.03437577e-06,  3.62884320e-01,\n",
       "         -4.96231803e-02],\n",
       "        [-2.11589004e-02, -7.91717676e-04, -1.85117257e-01,\n",
       "          2.83085765e-01,  3.73819167e-01,  3.93871286e-06,\n",
       "         -1.01387672e-01, -9.91756824e-03, -2.98289962e-01,\n",
       "          7.45734828e-02],\n",
       "        [-1.79503438e-02, -5.77777857e-02, -4.96688982e-01,\n",
       "         -1.56459002e-01,  2.46602768e-01,  1.94326814e-03,\n",
       "          2.60209115e-01, -2.96737196e-04, -1.21520972e-01,\n",
       "          1.99836545e-01]]),\n",
       " array([[-1.55209156e-02,  8.32490508e-03,  1.06604607e-05,\n",
       "         -2.81328876e-03,  2.42328254e-02],\n",
       "        [-2.62659854e-02,  2.81219086e-02, -2.76810660e-24,\n",
       "         -6.19993703e-02,  1.02512036e-01],\n",
       "        [-5.81781464e-01,  4.56376320e-01,  9.66600441e-02,\n",
       "          6.11388160e-01, -4.65602045e-01],\n",
       "        [ 2.90118781e-01, -2.53736528e-01, -4.24005497e-01,\n",
       "         -3.06080255e-01, -1.79704019e-01],\n",
       "        [-5.96662343e-01,  4.14224132e-01, -2.78676072e-01,\n",
       "         -5.54793198e-01,  1.65203574e-01],\n",
       "        [-1.94755693e-15, -1.68345647e-20, -3.33810678e-04,\n",
       "         -2.70705077e-02, -1.07173652e-03],\n",
       "        [ 6.28805534e-01,  4.57836640e-02, -6.70581947e-01,\n",
       "          1.05369533e-02,  5.22316826e-01],\n",
       "        [-8.48383052e-03,  2.40667584e-05,  2.00161908e-20,\n",
       "         -2.76680474e-02, -2.38954268e-05],\n",
       "        [ 3.69155207e-01,  3.25475501e-03, -3.58781885e-01,\n",
       "          3.59014818e-01,  4.81985696e-02],\n",
       "        [-6.69765774e-01, -2.14804861e-02,  6.38781621e-01,\n",
       "          3.41912905e-01, -3.97472456e-01]]),\n",
       " array([[ 0.3531341 ],\n",
       "        [-0.86600148],\n",
       "        [ 0.43520638],\n",
       "        [-0.79821566],\n",
       "        [-0.32949272]])]"
      ]
     },
     "execution_count": 18,
     "metadata": {},
     "output_type": "execute_result"
    }
   ],
   "source": [
    "ann_model.coefs_"
   ]
  },
  {
   "cell_type": "markdown",
   "metadata": {},
   "source": [
    "#### Apply Normalization on the input Data and re-run the model"
   ]
  },
  {
   "cell_type": "code",
   "execution_count": 19,
   "metadata": {},
   "outputs": [
    {
     "data": {
      "text/plain": [
       "[array([ 0.46156874,  0.38165017, -0.48250904, -0.47615273, -0.35497275,\n",
       "        -0.23276762, -0.51366849,  0.3138888 , -0.1286568 ,  0.28248122]),\n",
       " array([-0.14357444,  0.15819875, -0.98969437,  1.1922252 , -0.27752541]),\n",
       " array([-0.6560786])]"
      ]
     },
     "execution_count": 19,
     "metadata": {},
     "output_type": "execute_result"
    }
   ],
   "source": [
    "ann_model.intercepts_"
   ]
  },
  {
   "cell_type": "code",
   "execution_count": 23,
   "metadata": {},
   "outputs": [
    {
     "data": {
      "text/html": [
       "<div>\n",
       "<style scoped>\n",
       "    .dataframe tbody tr th:only-of-type {\n",
       "        vertical-align: middle;\n",
       "    }\n",
       "\n",
       "    .dataframe tbody tr th {\n",
       "        vertical-align: top;\n",
       "    }\n",
       "\n",
       "    .dataframe thead th {\n",
       "        text-align: right;\n",
       "    }\n",
       "</style>\n",
       "<table border=\"1\" class=\"dataframe\">\n",
       "  <thead>\n",
       "    <tr style=\"text-align: right;\">\n",
       "      <th></th>\n",
       "      <th>Age</th>\n",
       "      <th>Experience</th>\n",
       "      <th>Income</th>\n",
       "      <th>Family</th>\n",
       "      <th>CCAvg</th>\n",
       "      <th>Education</th>\n",
       "      <th>Mortgage</th>\n",
       "      <th>Securities Account</th>\n",
       "      <th>CD Account</th>\n",
       "      <th>Online</th>\n",
       "      <th>CreditCard</th>\n",
       "    </tr>\n",
       "  </thead>\n",
       "  <tbody>\n",
       "    <tr>\n",
       "      <th>0</th>\n",
       "      <td>0.452860</td>\n",
       "      <td>0.018114</td>\n",
       "      <td>0.887605</td>\n",
       "      <td>0.072458</td>\n",
       "      <td>0.028983</td>\n",
       "      <td>0.018114</td>\n",
       "      <td>0.0</td>\n",
       "      <td>0.018114</td>\n",
       "      <td>0.0</td>\n",
       "      <td>0.0</td>\n",
       "      <td>0.000000</td>\n",
       "    </tr>\n",
       "    <tr>\n",
       "      <th>1</th>\n",
       "      <td>0.754705</td>\n",
       "      <td>0.318653</td>\n",
       "      <td>0.570222</td>\n",
       "      <td>0.050314</td>\n",
       "      <td>0.025157</td>\n",
       "      <td>0.016771</td>\n",
       "      <td>0.0</td>\n",
       "      <td>0.016771</td>\n",
       "      <td>0.0</td>\n",
       "      <td>0.0</td>\n",
       "      <td>0.000000</td>\n",
       "    </tr>\n",
       "    <tr>\n",
       "      <th>2</th>\n",
       "      <td>0.901870</td>\n",
       "      <td>0.346873</td>\n",
       "      <td>0.254374</td>\n",
       "      <td>0.023125</td>\n",
       "      <td>0.023125</td>\n",
       "      <td>0.023125</td>\n",
       "      <td>0.0</td>\n",
       "      <td>0.000000</td>\n",
       "      <td>0.0</td>\n",
       "      <td>0.0</td>\n",
       "      <td>0.000000</td>\n",
       "    </tr>\n",
       "    <tr>\n",
       "      <th>3</th>\n",
       "      <td>0.328986</td>\n",
       "      <td>0.084596</td>\n",
       "      <td>0.939960</td>\n",
       "      <td>0.009400</td>\n",
       "      <td>0.025379</td>\n",
       "      <td>0.018799</td>\n",
       "      <td>0.0</td>\n",
       "      <td>0.000000</td>\n",
       "      <td>0.0</td>\n",
       "      <td>0.0</td>\n",
       "      <td>0.000000</td>\n",
       "    </tr>\n",
       "    <tr>\n",
       "      <th>4</th>\n",
       "      <td>0.605975</td>\n",
       "      <td>0.138509</td>\n",
       "      <td>0.779111</td>\n",
       "      <td>0.069254</td>\n",
       "      <td>0.017314</td>\n",
       "      <td>0.034627</td>\n",
       "      <td>0.0</td>\n",
       "      <td>0.000000</td>\n",
       "      <td>0.0</td>\n",
       "      <td>0.0</td>\n",
       "      <td>0.017314</td>\n",
       "    </tr>\n",
       "  </tbody>\n",
       "</table>\n",
       "</div>"
      ],
      "text/plain": [
       "        Age  Experience    Income    Family     CCAvg  Education  Mortgage  \\\n",
       "0  0.452860    0.018114  0.887605  0.072458  0.028983   0.018114       0.0   \n",
       "1  0.754705    0.318653  0.570222  0.050314  0.025157   0.016771       0.0   \n",
       "2  0.901870    0.346873  0.254374  0.023125  0.023125   0.023125       0.0   \n",
       "3  0.328986    0.084596  0.939960  0.009400  0.025379   0.018799       0.0   \n",
       "4  0.605975    0.138509  0.779111  0.069254  0.017314   0.034627       0.0   \n",
       "\n",
       "   Securities Account  CD Account  Online  CreditCard  \n",
       "0            0.018114         0.0     0.0    0.000000  \n",
       "1            0.016771         0.0     0.0    0.000000  \n",
       "2            0.000000         0.0     0.0    0.000000  \n",
       "3            0.000000         0.0     0.0    0.000000  \n",
       "4            0.000000         0.0     0.0    0.017314  "
      ]
     },
     "execution_count": 23,
     "metadata": {},
     "output_type": "execute_result"
    }
   ],
   "source": [
    "# Normalize the predictors\n",
    "from sklearn.preprocessing import normalize\n",
    "x_t = pd.DataFrame(normalize(x))\n",
    "x_t.columns = x.columns\n",
    "x_t.head()"
   ]
  },
  {
   "cell_type": "code",
   "execution_count": null,
   "metadata": {},
   "outputs": [],
   "source": [
    "# split train and test data on normalized one\n",
    "x_train, x_test, y_train, y_test = train_test_split(x_t, y, random_state=3 )"
   ]
  },
  {
   "cell_type": "code",
   "execution_count": null,
   "metadata": {},
   "outputs": [],
   "source": [
    "ann_model = MLPClassifier(max_iter=400)\n",
    "\n",
    "cross_val_score(ann_model, x_train, y_train, cv=5).mean()"
   ]
  },
  {
   "cell_type": "code",
   "execution_count": 18,
   "metadata": {},
   "outputs": [
    {
     "data": {
      "text/html": [
       "<div>\n",
       "<style scoped>\n",
       "    .dataframe tbody tr th:only-of-type {\n",
       "        vertical-align: middle;\n",
       "    }\n",
       "\n",
       "    .dataframe tbody tr th {\n",
       "        vertical-align: top;\n",
       "    }\n",
       "\n",
       "    .dataframe thead th {\n",
       "        text-align: right;\n",
       "    }\n",
       "</style>\n",
       "<table border=\"1\" class=\"dataframe\">\n",
       "  <thead>\n",
       "    <tr style=\"text-align: right;\">\n",
       "      <th></th>\n",
       "      <th>Age</th>\n",
       "      <th>Experience</th>\n",
       "      <th>Income</th>\n",
       "      <th>Family</th>\n",
       "      <th>CCAvg</th>\n",
       "      <th>Education</th>\n",
       "      <th>Mortgage</th>\n",
       "      <th>Securities Account</th>\n",
       "      <th>CD Account</th>\n",
       "      <th>Online</th>\n",
       "      <th>CreditCard</th>\n",
       "    </tr>\n",
       "  </thead>\n",
       "  <tbody>\n",
       "    <tr>\n",
       "      <th>0</th>\n",
       "      <td>-1.774417</td>\n",
       "      <td>-1.666078</td>\n",
       "      <td>-0.538229</td>\n",
       "      <td>1.397414</td>\n",
       "      <td>-0.193371</td>\n",
       "      <td>-1.049078</td>\n",
       "      <td>-0.555524</td>\n",
       "      <td>2.928915</td>\n",
       "      <td>-0.25354</td>\n",
       "      <td>-1.216618</td>\n",
       "      <td>-0.645314</td>\n",
       "    </tr>\n",
       "    <tr>\n",
       "      <th>1</th>\n",
       "      <td>-0.029524</td>\n",
       "      <td>-0.096330</td>\n",
       "      <td>-0.864109</td>\n",
       "      <td>0.525991</td>\n",
       "      <td>-0.250595</td>\n",
       "      <td>-1.049078</td>\n",
       "      <td>-0.555524</td>\n",
       "      <td>2.928915</td>\n",
       "      <td>-0.25354</td>\n",
       "      <td>-1.216618</td>\n",
       "      <td>-0.645314</td>\n",
       "    </tr>\n",
       "    <tr>\n",
       "      <th>2</th>\n",
       "      <td>-0.552992</td>\n",
       "      <td>-0.445163</td>\n",
       "      <td>-1.363793</td>\n",
       "      <td>-1.216855</td>\n",
       "      <td>-0.536720</td>\n",
       "      <td>-1.049078</td>\n",
       "      <td>-0.555524</td>\n",
       "      <td>-0.341423</td>\n",
       "      <td>-0.25354</td>\n",
       "      <td>-1.216618</td>\n",
       "      <td>-0.645314</td>\n",
       "    </tr>\n",
       "    <tr>\n",
       "      <th>3</th>\n",
       "      <td>-0.901970</td>\n",
       "      <td>-0.968413</td>\n",
       "      <td>0.569765</td>\n",
       "      <td>-1.216855</td>\n",
       "      <td>0.436103</td>\n",
       "      <td>0.141703</td>\n",
       "      <td>-0.555524</td>\n",
       "      <td>-0.341423</td>\n",
       "      <td>-0.25354</td>\n",
       "      <td>-1.216618</td>\n",
       "      <td>-0.645314</td>\n",
       "    </tr>\n",
       "    <tr>\n",
       "      <th>4</th>\n",
       "      <td>-0.901970</td>\n",
       "      <td>-1.055621</td>\n",
       "      <td>-0.625130</td>\n",
       "      <td>1.397414</td>\n",
       "      <td>-0.536720</td>\n",
       "      <td>0.141703</td>\n",
       "      <td>-0.555524</td>\n",
       "      <td>-0.341423</td>\n",
       "      <td>-0.25354</td>\n",
       "      <td>-1.216618</td>\n",
       "      <td>1.549632</td>\n",
       "    </tr>\n",
       "  </tbody>\n",
       "</table>\n",
       "</div>"
      ],
      "text/plain": [
       "        Age  Experience    Income    Family     CCAvg  Education  Mortgage  \\\n",
       "0 -1.774417   -1.666078 -0.538229  1.397414 -0.193371  -1.049078 -0.555524   \n",
       "1 -0.029524   -0.096330 -0.864109  0.525991 -0.250595  -1.049078 -0.555524   \n",
       "2 -0.552992   -0.445163 -1.363793 -1.216855 -0.536720  -1.049078 -0.555524   \n",
       "3 -0.901970   -0.968413  0.569765 -1.216855  0.436103   0.141703 -0.555524   \n",
       "4 -0.901970   -1.055621 -0.625130  1.397414 -0.536720   0.141703 -0.555524   \n",
       "\n",
       "   Securities Account  CD Account    Online  CreditCard  \n",
       "0            2.928915    -0.25354 -1.216618   -0.645314  \n",
       "1            2.928915    -0.25354 -1.216618   -0.645314  \n",
       "2           -0.341423    -0.25354 -1.216618   -0.645314  \n",
       "3           -0.341423    -0.25354 -1.216618   -0.645314  \n",
       "4           -0.341423    -0.25354 -1.216618    1.549632  "
      ]
     },
     "execution_count": 18,
     "metadata": {},
     "output_type": "execute_result"
    }
   ],
   "source": [
    "# Normalize the predictors\n",
    "from sklearn.preprocessing import scale\n",
    "x_t = pd.DataFrame(scale(x))\n",
    "x_t.columns = x.columns\n",
    "x_t.head()"
   ]
  },
  {
   "cell_type": "code",
   "execution_count": 19,
   "metadata": {},
   "outputs": [],
   "source": [
    "# split train and test data on normalized one\n",
    "x_train, x_test, y_train, y_test = train_test_split(x_t, y, random_state=3 )"
   ]
  },
  {
   "cell_type": "code",
   "execution_count": 20,
   "metadata": {},
   "outputs": [
    {
     "data": {
      "text/plain": [
       "0.8887909541765111"
      ]
     },
     "execution_count": 20,
     "metadata": {},
     "output_type": "execute_result"
    }
   ],
   "source": [
    "ann_model = MLPClassifier(max_iter=400)\n",
    "\n",
    "cross_val_score(ann_model, x_train, y_train, cv=5).mean()"
   ]
  },
  {
   "cell_type": "code",
   "execution_count": 22,
   "metadata": {},
   "outputs": [
    {
     "data": {
      "text/plain": [
       "0.8856"
      ]
     },
     "execution_count": 22,
     "metadata": {},
     "output_type": "execute_result"
    }
   ],
   "source": [
    "# Default Neural Network\n",
    "ann_model = MLPClassifier(hidden_layer_sizes=(30,20))\n",
    "\n",
    "#ann_model = MLPClassifier(hidden_layer_sizes=(5,3), activation='logistic', max_iter=400, verbose=2)\n",
    "\n",
    "ann_model.fit(x_train, y_train)\n",
    "y_pred = ann_model.predict(x_test)\n",
    "\n",
    "metrics.accuracy_score(y_pred, y_test)"
   ]
  },
  {
   "cell_type": "markdown",
   "metadata": {},
   "source": [
    "#### Neural Network Weights matrix"
   ]
  },
  {
   "cell_type": "code",
   "execution_count": 26,
   "metadata": {},
   "outputs": [
    {
     "data": {
      "text/plain": [
       "[array([[-3.38208125e-01,  3.06013461e-01, -8.12715984e-02],\n",
       "        [ 5.70554923e-01,  2.36970189e-02, -1.84594022e-01],\n",
       "        [ 4.23045861e-01,  4.26910850e-01,  1.66807911e-02],\n",
       "        [ 8.60570205e-02, -1.46255567e-01, -6.13917902e-01],\n",
       "        [-4.57361834e-01, -7.37654511e-01, -1.17298322e-02],\n",
       "        [ 1.09060337e+00,  9.69369600e-02,  8.61072321e-02],\n",
       "        [-1.47632416e-02, -1.19482635e-01,  2.95838066e-01],\n",
       "        [ 1.86080996e-01,  1.34823463e-01,  3.39917820e-01],\n",
       "        [ 9.19405067e-01, -1.12119775e+00, -9.44447134e-01],\n",
       "        [-7.62536230e-01, -5.46224093e-01, -3.27311990e-01],\n",
       "        [-1.16121041e-04,  6.84449971e-01,  7.00476850e-01]]),\n",
       " array([[-1.12100036e-13, -5.66143900e-01],\n",
       "        [-4.32376897e-03,  4.84645242e-01],\n",
       "        [-2.43597317e-02,  1.81996407e-01]]),\n",
       " array([[-1.04533909e-07],\n",
       "        [-5.45290820e-01]])]"
      ]
     },
     "execution_count": 26,
     "metadata": {},
     "output_type": "execute_result"
    }
   ],
   "source": [
    "ann_model.coefs_"
   ]
  },
  {
   "cell_type": "markdown",
   "metadata": {},
   "source": [
    "#### Neural Network Bias Merics "
   ]
  },
  {
   "cell_type": "code",
   "execution_count": 23,
   "metadata": {},
   "outputs": [
    {
     "data": {
      "text/plain": [
       "[array([ 0.08756175, -0.19681577, -0.50654758, -0.01676708,  0.26812407,\n",
       "         0.42970075, -0.34607402,  0.06048055,  0.28397177,  0.40056462,\n",
       "        -0.58610425, -0.17545695, -0.19981851, -0.04576269, -0.23163633,\n",
       "         0.1339994 , -0.67724856, -0.32832316,  0.06882503,  0.40598487,\n",
       "        -0.3882395 ,  0.80947421,  0.20989261, -0.05613388, -0.41069275,\n",
       "         0.15755173,  0.2934076 ,  0.04761326,  0.52799432,  0.36421476]),\n",
       " array([ 0.31691151, -0.01834702, -0.0943922 , -0.21120959,  0.09040604,\n",
       "        -0.119894  , -0.06279262, -0.06870455,  0.20214777, -0.26377436,\n",
       "        -0.28627886,  0.21657656,  0.1193653 ,  0.14600654, -0.10179245,\n",
       "         0.02784412, -0.01867546, -0.07393605, -0.19624935,  0.34080456]),\n",
       " array([0.42486373])]"
      ]
     },
     "execution_count": 23,
     "metadata": {},
     "output_type": "execute_result"
    }
   ],
   "source": [
    "ann_model.intercepts_"
   ]
  },
  {
   "cell_type": "code",
   "execution_count": 25,
   "metadata": {},
   "outputs": [
    {
     "data": {
      "text/plain": [
       "0.864"
      ]
     },
     "execution_count": 25,
     "metadata": {},
     "output_type": "execute_result"
    }
   ],
   "source": [
    "# Adding more hidden layer\n",
    "ann_model = MLPClassifier(hidden_layer_sizes=(50,40), activation='logistic',max_iter=400)\n",
    "#ann_model = MLPClassifier(hidden_layer_sizes=(40, 10))\n",
    "\n",
    "ann_model.fit(x_train, y_train)\n",
    "y_pred = ann_model.predict(x_test)\n",
    "\n",
    "metrics.accuracy_score(y_pred, y_test)\n",
    "\n",
    "# hidden_layer_sizes=(10,) -  1 hidden layer with 10 hidden units.\n",
    "# hidden_layer_sizes=(10, 5) -  2 hidden layers with 10 hidden units in 1st layer and 5 hidden units in 2nd hidden layer."
   ]
  },
  {
   "cell_type": "code",
   "execution_count": 24,
   "metadata": {},
   "outputs": [
    {
     "data": {
      "text/plain": [
       "[array([[ 3.30691047e-01,  5.93718917e-03,  1.41775309e-01,\n",
       "          1.08585379e-01,  1.70155863e-01,  2.62386276e-01,\n",
       "          3.25141771e-01,  2.87089607e-01,  2.91383896e-01,\n",
       "         -4.29108604e-01,  1.65133615e-01, -1.41945060e-01,\n",
       "          1.32859769e-02, -1.51109923e-01, -1.16681140e-01,\n",
       "         -6.42720312e-02, -3.31820896e-01, -1.89696648e-01,\n",
       "         -1.20841392e-01, -1.71217889e-01, -8.43873713e-02,\n",
       "          6.16579552e-03,  9.44813640e-02,  1.08296350e-01,\n",
       "          8.51896761e-02,  3.48348768e-01, -7.95846470e-02,\n",
       "         -7.36864377e-02, -2.90344474e-02, -8.76553888e-02],\n",
       "        [ 1.57548910e-01, -9.54129731e-02, -2.29990427e-01,\n",
       "         -1.93232087e-02, -3.07650355e-01,  3.47041989e-01,\n",
       "          3.41797057e-01,  2.76215015e-01, -2.11403337e-01,\n",
       "          1.46804336e-01, -3.64495771e-02, -1.35804439e-01,\n",
       "         -2.35123647e-01,  2.28501255e-01,  1.67362098e-01,\n",
       "          4.10120947e-01,  3.82289625e-01,  3.04646493e-01,\n",
       "         -2.83048302e-01,  1.78236585e-01,  5.31744349e-02,\n",
       "          2.90577865e-01, -2.38568098e-02,  2.77210049e-01,\n",
       "          4.90902803e-01,  2.64112595e-01,  1.40967944e-01,\n",
       "         -1.07647580e-01,  1.52250767e-01,  1.86567067e-01],\n",
       "        [-4.35460087e-03,  3.59156429e-01,  5.58224987e-02,\n",
       "         -2.41473679e-01, -2.81626285e-01,  7.85236161e-02,\n",
       "          1.79545522e-01,  5.74596440e-01, -1.11400271e-01,\n",
       "          2.93430293e-01,  2.14847900e-01,  3.81888105e-01,\n",
       "         -2.17387273e-01, -2.97103111e-01,  1.64404906e-01,\n",
       "          2.43852297e-01,  5.95727745e-01,  3.92137948e-01,\n",
       "         -5.84620278e-01,  3.90543661e-01,  1.15028733e-01,\n",
       "         -6.41205191e-01,  5.57917822e-01,  5.02664666e-01,\n",
       "         -1.88993698e-01,  6.20623292e-01, -3.65339598e-01,\n",
       "          4.83539227e-01, -2.53137837e-01, -1.91622035e-01],\n",
       "        [ 3.41752608e-01,  6.45684196e-01, -5.49026871e-01,\n",
       "          2.97232654e-01, -1.14757805e-01,  4.40696718e-02,\n",
       "          1.95790760e-01,  2.00940607e-02, -7.82923869e-02,\n",
       "          5.91966796e-01, -1.58062064e-02, -5.78881584e-01,\n",
       "         -5.02403645e-01,  4.49891730e-01,  2.31448716e-02,\n",
       "          5.18821142e-01, -2.91362285e-01, -5.20857358e-01,\n",
       "         -1.87472614e-02, -6.14096618e-01, -4.52489014e-01,\n",
       "          2.82088269e-01,  5.23965239e-01,  2.18882968e-01,\n",
       "         -4.16419821e-01,  4.76688225e-01,  5.27793425e-01,\n",
       "          2.37020211e-01, -4.66382843e-03, -2.77631216e-01],\n",
       "        [-3.99517017e-01, -2.51420931e-02,  1.41791307e-01,\n",
       "          1.08327743e-01, -7.58991460e-02,  3.39678547e-01,\n",
       "          2.26764246e-01,  2.71223265e-01,  2.58093356e-01,\n",
       "          3.26413418e-01,  3.17807880e-01,  2.01668601e-01,\n",
       "         -4.63787986e-01, -3.50719789e-01,  5.47515588e-01,\n",
       "          5.18319324e-02, -2.59090308e-02, -4.50104903e-01,\n",
       "         -4.59072307e-01,  3.72316450e-01,  2.45011947e-01,\n",
       "         -3.15812555e-02,  2.68606514e-01, -1.76083850e-01,\n",
       "          3.96912537e-01, -3.97494984e-01, -1.65093580e-02,\n",
       "          3.55196354e-01, -2.83380077e-01,  1.78667547e-01],\n",
       "        [ 7.86469069e-02,  2.40572924e-02, -8.06095680e-01,\n",
       "          3.71848141e-01, -2.87275522e-01,  2.56514948e-01,\n",
       "          3.69645905e-01,  1.11316668e-01, -4.35348454e-01,\n",
       "          2.00692728e-01, -5.85118898e-01,  8.18966616e-02,\n",
       "          3.90756733e-01,  4.63841261e-01, -2.24494003e-01,\n",
       "          5.25607371e-01, -5.15615586e-01,  5.53361865e-01,\n",
       "          5.12651860e-02, -4.84193209e-01, -4.42349820e-01,\n",
       "          5.21677535e-01,  1.75842588e-01, -5.78261116e-01,\n",
       "          2.69336550e-01,  3.83047710e-01,  1.60816535e-01,\n",
       "          1.88262116e-02,  2.68975520e-01, -3.06165400e-01],\n",
       "        [-3.27831244e-02,  2.60176038e-01, -1.59379162e-01,\n",
       "          1.89441597e-02, -4.59162794e-01,  3.40571310e-01,\n",
       "          3.19310039e-01, -1.58826979e-01, -1.16151243e-01,\n",
       "         -1.75154204e-01, -1.53821637e-01, -7.81600466e-01,\n",
       "          4.33495600e-01, -1.23816565e-01,  2.74270428e-01,\n",
       "          2.67951884e-01,  3.33650374e-01,  2.72849035e-02,\n",
       "         -5.29414365e-01,  3.58109271e-01,  1.44048059e-01,\n",
       "          1.37717280e-01, -5.00063576e-03, -5.52117019e-02,\n",
       "         -6.80270307e-02, -2.49703543e-01, -8.26204124e-02,\n",
       "         -5.17975563e-01, -1.17551280e-01, -4.06238221e-02],\n",
       "        [ 2.76268427e-01,  1.77681108e-01, -2.24411926e-01,\n",
       "         -1.31827040e-01, -3.13299177e-01, -3.16273033e-01,\n",
       "         -2.10153922e-01,  3.96787547e-01,  1.73600716e-02,\n",
       "          1.66602456e-01,  2.28679549e-01, -1.35954777e-01,\n",
       "         -1.17014156e-01, -7.83714475e-01, -2.09234498e-01,\n",
       "         -1.99677946e-01,  7.63210538e-02,  3.87456179e-01,\n",
       "          2.26794782e-01, -9.03451326e-02, -1.79625388e-01,\n",
       "          1.05470559e-01, -1.15737069e-01,  2.36689226e-01,\n",
       "          1.46359927e-01,  1.14266170e-01,  3.18118881e-01,\n",
       "         -3.21494318e-01,  2.09966374e-02,  5.32465942e-01],\n",
       "        [ 8.11352720e-02,  1.98709924e-01,  3.60540320e-02,\n",
       "         -3.70352042e-01, -3.91430572e-01, -5.32798487e-01,\n",
       "          2.11574165e-02,  3.10270067e-01,  1.31994475e-01,\n",
       "         -3.13694098e-01, -1.05008761e-01, -3.23006298e-01,\n",
       "          1.81505227e-01, -7.94656297e-04, -2.35968984e-01,\n",
       "         -1.05825482e-01,  1.89976930e-01, -1.10208388e-01,\n",
       "          3.38568928e-01,  9.17732076e-02, -6.75083322e-03,\n",
       "         -5.59639953e-01,  2.47169857e-01, -2.08591291e-01,\n",
       "         -3.44802466e-01,  1.83317539e-01, -1.83145824e-01,\n",
       "          3.67073797e-01,  7.21024159e-02,  2.93450918e-01],\n",
       "        [ 5.01935352e-01,  3.44784358e-01, -7.68579414e-02,\n",
       "          1.82838609e-01, -2.37619513e-01,  2.15482004e-01,\n",
       "          3.37154545e-01, -5.30727621e-02,  1.19891751e-01,\n",
       "          9.26181884e-02,  2.34033265e-01, -8.92593827e-02,\n",
       "          1.99581049e-01,  9.73842723e-02, -1.66527251e-01,\n",
       "         -4.12454495e-01, -2.07110070e-01,  6.76923335e-02,\n",
       "          4.19904517e-01, -2.78894137e-01,  3.94348958e-01,\n",
       "          1.24444175e-01,  1.01073346e-01, -5.38513409e-02,\n",
       "          4.54006165e-01, -2.60729684e-01,  3.16722179e-02,\n",
       "         -1.30133841e-01, -3.72189311e-01,  3.20584009e-01],\n",
       "        [ 1.17550640e-01, -3.87529142e-01,  7.35601525e-02,\n",
       "         -5.39148198e-01,  1.49194795e-01, -5.64381418e-01,\n",
       "         -5.68515348e-01,  4.20954581e-01, -7.15669350e-02,\n",
       "          1.35823808e-01, -5.28315409e-02, -5.63589488e-01,\n",
       "          4.16961647e-02,  4.62504938e-01,  3.36334534e-01,\n",
       "          2.42745601e-01, -7.32779183e-02,  6.03980072e-04,\n",
       "         -4.87203201e-01, -2.06564075e-01,  4.16886580e-01,\n",
       "         -3.21648434e-01, -2.26588169e-01, -4.01335547e-01,\n",
       "          2.79152994e-01, -2.68537998e-01,  5.12824943e-01,\n",
       "          2.63560349e-01, -3.72908973e-01,  3.27138511e-01]]),\n",
       " array([[ 4.04762662e-02, -2.58537624e-02,  4.25775234e-01,\n",
       "         -5.40422783e-01,  3.38983930e-01,  2.53378879e-01,\n",
       "          3.15338371e-01,  2.11253439e-01, -3.86319573e-02,\n",
       "          4.11466993e-01,  6.26484926e-02, -1.48958712e-01,\n",
       "          7.40116479e-02, -1.36641494e-01,  2.22850802e-01,\n",
       "         -4.51669853e-01,  2.60405102e-01,  2.28335648e-01,\n",
       "         -2.98563027e-01,  3.16993777e-01],\n",
       "        [-5.07426334e-02, -4.61932313e-01,  4.41825321e-02,\n",
       "          3.63563284e-01, -1.36993643e-01, -2.47116411e-01,\n",
       "          4.49861971e-02,  2.44164754e-01,  2.75710991e-01,\n",
       "          5.74230627e-01,  3.57479781e-01, -3.43802492e-01,\n",
       "         -1.64593441e-01, -1.36573438e-01,  2.54723555e-01,\n",
       "          4.36493316e-01,  1.62069673e-02, -1.96440227e-01,\n",
       "         -1.36106651e-01,  1.83513088e-01],\n",
       "        [-1.92194833e-01,  2.57714212e-01, -2.17313722e-02,\n",
       "         -2.55283168e-01, -2.99217989e-01,  1.79113736e-01,\n",
       "         -2.10256678e-01, -6.90435659e-01, -1.34482727e-01,\n",
       "         -5.00520995e-01, -1.13459914e+00,  4.86304311e-01,\n",
       "         -2.92925624e-01, -6.85199549e-02, -4.48530468e-01,\n",
       "         -4.86143765e-02, -9.36122258e-02,  6.39543982e-02,\n",
       "          2.35263419e-01,  2.43877214e-02],\n",
       "        [ 2.25901910e-01,  4.27421509e-02,  2.85379435e-01,\n",
       "         -5.10831114e-01,  1.95286416e-01, -1.13060787e-01,\n",
       "          1.67232915e-01,  2.07713167e-01,  2.04129574e-01,\n",
       "         -1.44886515e-01, -4.01615263e-01, -4.76609120e-02,\n",
       "          2.75121789e-01,  5.00265455e-01, -9.11055146e-02,\n",
       "         -3.21045589e-01, -1.51771303e-01, -8.15444013e-02,\n",
       "         -3.66113466e-02,  7.96318558e-03],\n",
       "        [ 3.44213902e-01, -1.29103007e-01,  1.54680548e-01,\n",
       "         -1.66430111e-01,  3.21732449e-01,  2.25078920e-01,\n",
       "         -1.27184240e-01, -4.68866677e-01,  2.60708017e-02,\n",
       "          2.65501467e-02,  1.43616327e-01, -3.30650891e-01,\n",
       "          2.31069520e-01,  5.12267263e-01,  3.55482157e-01,\n",
       "         -2.74902724e-01, -1.06877918e-01,  4.17856590e-01,\n",
       "          2.26661795e-01,  2.66551626e-01],\n",
       "        [-1.28879202e-01,  2.90357186e-01,  2.35639883e-01,\n",
       "          1.93216234e-01,  2.83952321e-01,  3.69402017e-01,\n",
       "          4.79408472e-01,  8.37790733e-04,  6.93663761e-02,\n",
       "         -2.19904315e-01,  4.74412805e-01,  7.47991668e-02,\n",
       "          7.63869791e-02, -1.76546504e-01,  4.44101644e-02,\n",
       "         -8.81159485e-02,  2.44599663e-01, -1.16750984e-01,\n",
       "         -2.97452069e-01, -1.41758332e-01],\n",
       "        [ 5.03673217e-02, -1.93566125e-01, -1.66487638e-02,\n",
       "          6.05386876e-01,  1.98007507e-01,  3.17626128e-01,\n",
       "          1.03077952e-02,  3.83949202e-01, -3.98216272e-01,\n",
       "          2.12275579e-01, -1.06909637e-01, -2.58482694e-01,\n",
       "         -7.30135856e-02, -3.83032936e-01, -1.53347643e-01,\n",
       "          3.02815808e-01, -4.81692031e-01, -2.75383940e-01,\n",
       "         -2.92290767e-02, -1.11074958e-01],\n",
       "        [ 1.99840611e-01,  1.13795859e-02, -2.75755178e-01,\n",
       "         -2.01978491e-01,  6.60408551e-04,  1.90565107e-01,\n",
       "         -7.93837234e-02,  2.96594686e-01,  2.16188076e-01,\n",
       "         -7.53604901e-02, -1.05968363e-01, -1.09030100e-01,\n",
       "         -3.11840398e-01,  3.88067322e-01, -5.68369482e-01,\n",
       "          4.29671831e-01, -2.42568246e-01,  1.82046899e-01,\n",
       "          3.17218887e-01, -1.79525584e-01],\n",
       "        [ 1.24917422e-01, -1.17302997e-01,  2.58620419e-01,\n",
       "         -2.94337751e-01, -2.27718864e-01, -2.43554861e-01,\n",
       "         -3.60055353e-01, -1.19961482e-01, -3.36241154e-01,\n",
       "          3.84788963e-01,  4.32918112e-02, -1.87781448e-01,\n",
       "         -1.94613009e-01, -2.03772872e-01,  2.66073257e-01,\n",
       "          2.94710266e-01,  4.72642336e-01,  3.93123143e-02,\n",
       "          1.37778826e-01, -2.60241428e-01],\n",
       "        [-3.05301774e-01,  4.02056083e-03,  1.60380380e-01,\n",
       "          4.71402755e-01,  1.96550810e-01, -1.47253108e-02,\n",
       "          2.72483949e-01,  8.35163189e-02,  1.69222482e-01,\n",
       "          3.51849257e-01, -7.01747140e-02, -2.53897839e-01,\n",
       "          1.84894382e-01,  3.09514431e-02, -3.53943961e-01,\n",
       "          2.62244584e-01, -5.57805641e-01,  3.27220582e-01,\n",
       "          1.43307923e-01,  1.70187504e-01],\n",
       "        [ 5.76708562e-02, -4.22650854e-01,  1.49199693e-01,\n",
       "         -1.59340416e-01,  9.95036755e-02, -1.78512986e-01,\n",
       "         -1.48124492e-01, -7.01904506e-01, -7.97153975e-02,\n",
       "         -5.64459363e-01, -6.41281566e-01, -3.70844992e-01,\n",
       "          4.79430610e-01,  2.88840342e-01,  1.66503976e-01,\n",
       "         -4.09258162e-01,  1.84205657e-01,  3.77864811e-01,\n",
       "          3.38142376e-02,  2.99600426e-01],\n",
       "        [ 1.52135769e-01, -2.18512293e-01,  1.04508486e-01,\n",
       "          6.39152706e-04,  2.63381100e-01, -1.77096956e-02,\n",
       "          1.21457485e-01,  2.32019136e-01, -1.94717247e-02,\n",
       "          4.87214197e-01,  2.21477432e-01,  3.11912406e-01,\n",
       "          3.27577945e-01,  4.63555000e-02, -3.66278150e-01,\n",
       "         -7.94568689e-02,  2.56550362e-01, -3.10839696e-01,\n",
       "          3.30687201e-01,  1.90575238e-01],\n",
       "        [ 2.34527528e-01,  3.41035775e-01, -4.87559205e-01,\n",
       "          4.90128059e-01,  1.12927543e-01,  3.11397894e-01,\n",
       "         -1.32173132e-01,  2.41162354e-01,  5.19261607e-01,\n",
       "         -5.04268482e-01,  2.74707827e-02,  3.66011227e-01,\n",
       "          1.57759970e-01,  3.23039826e-01, -4.95727468e-01,\n",
       "          5.44287917e-02, -1.11723885e-01,  6.37596068e-02,\n",
       "          1.71635468e-01,  2.71256989e-01],\n",
       "        [-2.12615942e-01, -2.21284552e-01, -1.04517600e-01,\n",
       "         -2.02996893e-01,  2.09404205e-02,  3.02515810e-01,\n",
       "          6.42415696e-02, -7.17880318e-02,  2.86370700e-01,\n",
       "         -6.83580609e-01, -9.38849833e-01,  3.99527404e-01,\n",
       "         -3.31001530e-01,  2.90487666e-01,  1.03506064e-01,\n",
       "         -3.78692704e-01, -5.74696836e-02, -1.80679612e-01,\n",
       "         -2.67154184e-01,  1.42711702e-01],\n",
       "        [ 1.13997684e-01, -2.20629470e-01,  4.67758003e-01,\n",
       "          9.57202391e-02,  2.10416988e-01,  2.98131025e-01,\n",
       "          1.95686776e-01, -2.63647083e-01,  1.93564037e-02,\n",
       "          9.31842050e-02,  2.52376754e-01,  3.46621692e-01,\n",
       "          9.78831372e-02,  4.58550979e-02, -7.20714696e-01,\n",
       "          1.62445870e-01,  8.38613036e-02,  3.86281481e-01,\n",
       "          3.13148885e-01,  1.53642026e-01],\n",
       "        [ 2.55021397e-01, -2.18110749e-01,  1.53617483e-01,\n",
       "          3.25985303e-01,  2.57996366e-01, -3.23275897e-01,\n",
       "          3.01647890e-01,  1.70214491e-01,  2.28938018e-01,\n",
       "          5.47378072e-01,  2.59021426e-01, -2.33364886e-01,\n",
       "         -6.16890621e-01,  2.30453455e-01, -1.45108478e-01,\n",
       "          2.05866270e-01,  3.09212869e-02, -7.10399566e-01,\n",
       "          2.99081794e-01,  2.67242385e-01],\n",
       "        [-3.11035275e-02, -6.12744011e-01,  2.72339762e-01,\n",
       "         -6.40952718e-02,  1.38484704e-01,  9.63517249e-02,\n",
       "          3.66031308e-02,  8.62930954e-02, -4.48720112e-01,\n",
       "         -3.93907943e-01, -4.17964002e-02,  3.22629585e-02,\n",
       "          4.00027322e-01, -1.65020268e-01,  1.45179306e-01,\n",
       "         -3.29567130e-01,  9.63096953e-02,  1.26022117e-01,\n",
       "         -9.51775050e-02,  4.34600788e-02],\n",
       "        [-4.41533056e-01,  3.26053998e-01,  9.69315573e-02,\n",
       "          3.98402654e-01, -4.30235840e-01, -3.66093643e-01,\n",
       "          2.28876490e-01,  2.14732106e-01, -1.20815117e-02,\n",
       "          5.65570612e-01,  5.50086856e-01,  1.00166008e-01,\n",
       "         -5.97751485e-01,  3.82680975e-01,  1.14342733e-01,\n",
       "         -3.71136369e-02,  2.94690021e-01,  1.06628965e-01,\n",
       "          2.20149831e-01, -1.30747473e-01],\n",
       "        [ 1.61203815e-01,  2.51018614e-01, -2.64550258e-02,\n",
       "         -3.18477826e-02,  3.96202448e-01,  1.29295153e-01,\n",
       "          1.74929518e-01,  4.41248906e-01, -2.99947284e-01,\n",
       "         -5.95187485e-01, -4.58323488e-01,  5.33660949e-01,\n",
       "          5.26539915e-01, -1.45348856e-01, -3.61444161e-01,\n",
       "         -5.04075669e-02, -6.60987011e-01,  2.29967278e-01,\n",
       "          2.37038750e-01, -1.41193688e-02],\n",
       "        [-1.16699366e-01,  2.70081772e-01,  1.99931545e-01,\n",
       "          1.37397090e-01,  5.52213406e-02,  6.90884073e-02,\n",
       "          2.68274072e-01,  1.08061902e-01, -7.51502374e-01,\n",
       "          2.19255337e-01, -1.95460757e-01,  1.27222257e-02,\n",
       "          4.44999137e-01, -2.81440868e-01, -8.10092420e-01,\n",
       "          3.78082468e-01, -1.71595430e-01,  3.87708572e-01,\n",
       "          4.32270191e-01,  2.62493839e-01],\n",
       "        [ 4.03796817e-01, -3.32566128e-02, -1.56060291e-02,\n",
       "          1.79480312e-01,  1.37766918e-01,  1.15459259e-01,\n",
       "         -2.09884078e-01, -6.35056382e-01,  3.62089541e-01,\n",
       "         -5.82799309e-01, -2.67439175e-01,  4.36960661e-01,\n",
       "          4.84727939e-01,  3.19782849e-01, -4.50717877e-01,\n",
       "         -3.56976288e-01, -1.05907789e-01,  2.25324087e-01,\n",
       "         -1.04512291e-01,  2.05538931e-01],\n",
       "        [ 1.78973868e-01,  1.14793725e-01,  1.26997425e-01,\n",
       "         -4.14833114e-01, -2.48017553e-01,  3.47629511e-02,\n",
       "         -3.29533438e-01, -3.51965692e-01, -5.24249131e-01,\n",
       "         -5.16649593e-01, -8.33120150e-01,  1.47752360e-01,\n",
       "          1.39948973e-03, -3.91543397e-01,  4.02248640e-01,\n",
       "         -4.77525109e-01,  7.60348497e-02, -8.49842120e-02,\n",
       "         -3.88232265e-01,  1.54304883e-01],\n",
       "        [ 1.70456132e-01,  3.04111968e-01,  7.43357945e-02,\n",
       "          5.60481380e-01, -6.07192301e-02,  4.68679667e-01,\n",
       "         -1.40972522e-01,  5.15562904e-01,  2.93236057e-01,\n",
       "          2.25259550e-01,  5.94755079e-01, -1.98333285e-01,\n",
       "          2.07488007e-01,  3.94502532e-01, -2.60024102e-01,\n",
       "          1.43134787e-01,  4.89745083e-02, -2.04214240e-01,\n",
       "          2.68005952e-01,  8.60720712e-02],\n",
       "        [ 2.09945945e-01,  3.39342953e-01,  1.21271256e-02,\n",
       "         -6.42602214e-01,  3.11368342e-01, -1.03726612e-01,\n",
       "          2.32216569e-01, -1.49254178e-01, -6.03818173e-02,\n",
       "         -2.97331998e-01, -2.04614501e-01, -2.47850436e-01,\n",
       "          2.15064923e-01,  4.56274789e-01,  4.68043834e-01,\n",
       "         -8.67069164e-01,  1.35569274e-01,  1.29657909e-01,\n",
       "          1.33430680e-01,  1.83740411e-01],\n",
       "        [-2.51220235e-01,  1.94997799e-01, -4.64842248e-01,\n",
       "          2.12189264e-01, -4.58351708e-01,  1.00291360e-01,\n",
       "          1.90573388e-01, -3.55778212e-01,  3.33811391e-01,\n",
       "          2.56071033e-01, -2.34935795e-01,  4.70722403e-01,\n",
       "         -4.71349682e-01,  8.28897929e-02,  2.41620097e-01,\n",
       "          5.79751332e-01, -6.59806973e-01, -2.57024881e-01,\n",
       "          2.21949458e-01, -2.64255689e-01],\n",
       "        [-1.28306522e-01,  4.00784933e-01, -3.15301070e-01,\n",
       "          2.83739212e-01,  1.40524215e-01,  1.75841453e-01,\n",
       "          3.15765627e-01, -1.50526226e-01, -1.80164303e-01,\n",
       "          3.91685846e-01,  4.70930879e-01,  4.86213162e-02,\n",
       "         -1.28661771e-01, -4.53949372e-01,  1.81838930e-01,\n",
       "         -6.80122425e-02,  2.91733299e-01, -2.14082686e-01,\n",
       "          2.04510005e-01, -1.55664971e-01],\n",
       "        [-2.60288302e-01, -1.56895749e-01, -1.72478807e-01,\n",
       "         -2.43719984e-01, -1.26269774e-02,  2.25895417e-01,\n",
       "          1.51884549e-01, -3.70921699e-01,  1.29783730e-01,\n",
       "         -3.65645993e-01, -1.20964646e-01, -3.78162440e-01,\n",
       "         -1.67613215e-02,  2.91275137e-01,  5.17824116e-01,\n",
       "         -2.34645519e-01,  1.24127159e-01, -1.31150976e-01,\n",
       "         -1.95721781e-01,  1.66597193e-01],\n",
       "        [-1.14635200e-01, -2.92552299e-01, -2.96826835e-01,\n",
       "          3.83169113e-01, -2.51783440e-01,  7.84029514e-02,\n",
       "         -3.71039395e-01,  1.59243069e-01, -3.36160558e-01,\n",
       "          2.68642977e-01,  4.62147246e-01, -2.99061114e-01,\n",
       "          1.17430550e-01, -1.13301167e-01,  4.53858483e-01,\n",
       "          4.05611059e-02, -4.26365178e-01, -1.18478646e-01,\n",
       "         -2.20840947e-01,  2.76410467e-01],\n",
       "        [ 4.11349512e-02, -1.21543902e-01,  2.39860276e-01,\n",
       "         -7.02417063e-01, -1.59654807e-01,  2.39047189e-01,\n",
       "          2.74280625e-01, -3.93501093e-01,  1.78892673e-01,\n",
       "         -4.50506436e-01, -3.48694816e-01, -3.41465664e-01,\n",
       "          1.97027738e-01, -1.26782092e-01,  3.71351944e-01,\n",
       "         -9.45398814e-02, -2.74609406e-01,  3.72178483e-01,\n",
       "         -3.02595106e-01,  3.04955835e-01],\n",
       "        [-1.23587452e-02, -4.82635206e-02, -2.67798188e-01,\n",
       "         -4.36840995e-01,  2.65448562e-02,  7.98462304e-02,\n",
       "         -5.20770028e-02,  2.97463008e-01,  3.20423003e-01,\n",
       "         -1.69735686e-01, -1.16375239e-01,  3.12728483e-01,\n",
       "          5.27566843e-02,  2.23751808e-01, -3.35448635e-01,\n",
       "         -2.76438382e-01,  9.34270374e-02, -3.91686166e-02,\n",
       "         -5.97985943e-02,  2.60011857e-01]]),\n",
       " array([[-0.43073526],\n",
       "        [-0.67043492],\n",
       "        [-0.52940633],\n",
       "        [ 0.72606996],\n",
       "        [-0.33416308],\n",
       "        [-0.29263734],\n",
       "        [-0.46216253],\n",
       "        [ 0.78766362],\n",
       "        [-1.17604856],\n",
       "        [ 1.24495972],\n",
       "        [ 1.32099735],\n",
       "        [ 0.50246188],\n",
       "        [-0.53250927],\n",
       "        [-0.80374417],\n",
       "        [ 0.66282364],\n",
       "        [ 1.12736763],\n",
       "        [ 1.17570879],\n",
       "        [-0.50728783],\n",
       "        [ 0.50579687],\n",
       "        [-0.28933488]])]"
      ]
     },
     "execution_count": 24,
     "metadata": {},
     "output_type": "execute_result"
    }
   ],
   "source": [
    "ann_model.coefs_"
   ]
  },
  {
   "cell_type": "code",
   "execution_count": null,
   "metadata": {},
   "outputs": [],
   "source": [
    "ann_model.intercepts_"
   ]
  },
  {
   "cell_type": "code",
   "execution_count": null,
   "metadata": {},
   "outputs": [],
   "source": [
    "y_test.value_counts()"
   ]
  },
  {
   "cell_type": "code",
   "execution_count": null,
   "metadata": {},
   "outputs": [],
   "source": [
    "y_pred = ann_model.predict(x_test)\n",
    "metrics.accuracy_score(y_pred, y_test)"
   ]
  },
  {
   "cell_type": "markdown",
   "metadata": {},
   "source": [
    "#### Neural Network Tuning"
   ]
  },
  {
   "cell_type": "code",
   "execution_count": 25,
   "metadata": {},
   "outputs": [
    {
     "name": "stderr",
     "output_type": "stream",
     "text": [
      "C:\\Users\\jp\\Anaconda3\\lib\\site-packages\\sklearn\\neural_network\\multilayer_perceptron.py:564: ConvergenceWarning: Stochastic Optimizer: Maximum iterations (200) reached and the optimization hasn't converged yet.\n",
      "  % self.max_iter, ConvergenceWarning)\n"
     ]
    },
    {
     "data": {
      "text/plain": [
       "0.8826604567593306"
      ]
     },
     "execution_count": 25,
     "metadata": {},
     "output_type": "execute_result"
    }
   ],
   "source": [
    "ann_model = MLPClassifier(hidden_layer_sizes=(40))  # 82%\n",
    "#ann_model = MLPClassifier(hidden_layer_sizes=(40,20))  # 82.2%\n",
    "\n",
    "cross_val_score(ann_model, x_train, y_train, cv=5).mean()\n",
    "\n",
    "# hidden_layer_sizes=(10,) -  1 hidden layer with 10 hidden units.\n",
    "# hidden_layer_sizes=(10, 5) -  2 hidden layers with 10 hidden units in 1st layer and 5 hidden units in 2nd hidden layer."
   ]
  },
  {
   "cell_type": "code",
   "execution_count": null,
   "metadata": {},
   "outputs": [],
   "source": [
    "#ann_model = MLPClassifier(hidden_layer_sizes=(40), max_iter=400)  #  88% /  old = 82%\n",
    "ann_model = MLPClassifier(hidden_layer_sizes=(60,40), max_iter=400)  # 89.2% / 83%\n",
    "\n",
    "cross_val_score(ann_model, x_train, y_train, cv=5).mean()\n",
    "\n",
    "# hidden_layer_sizes=(10,) -  1 hidden layer with 10 hidden units.\n",
    "# hidden_layer_sizes=(10, 5) -  2 hidden layers with 10 hidden units in 1st layer and 5 hidden units in 2nd hidden layer."
   ]
  },
  {
   "cell_type": "code",
   "execution_count": null,
   "metadata": {},
   "outputs": [],
   "source": []
  },
  {
   "cell_type": "code",
   "execution_count": 22,
   "metadata": {},
   "outputs": [
    {
     "data": {
      "text/plain": [
       "0.8437078646065743"
      ]
     },
     "execution_count": 22,
     "metadata": {},
     "output_type": "execute_result"
    }
   ],
   "source": [
    "# Hidden Layer, Nodes, and Activation function tuning\n",
    "\n",
    "#ann_model = MLPClassifier(hidden_layer_sizes=(80,10), activation='identity')      # 86%\n",
    "ann_model = MLPClassifier(hidden_layer_sizes=(100,100,), activation='tanh')       # 88.6%\n",
    "#ann_model = MLPClassifier(hidden_layer_sizes=(50,10,50,), activation='tanh')       # 88.8%\n",
    "#ann_model = MLPClassifier(hidden_layer_sizes=(50,10,50,), activation='logistic')  # 88.4%\n",
    "\n",
    "ann_model = MLPClassifier(hidden_layer_sizes=(100,10,50), activation='relu')        # 89.17%\n",
    "\n",
    "# Cross valid Accuracy\n",
    "cross_val_score(ann_model, x_train, y_train, cv=5).mean()\n"
   ]
  },
  {
   "cell_type": "code",
   "execution_count": null,
   "metadata": {},
   "outputs": [],
   "source": [
    "# Solver - {‘lbfgs’, ‘sgd’, ‘adam’}, default ‘adam’  - Optimizer for weight optimization\n",
    "\n",
    "# ‘lbfgs’ is an optimizer in the family of quasi-Newton methods.\n",
    "# ‘sgd’ refers to stochastic gradient descent.\n",
    "# ‘adam’ refers to a stochastic gradient-based optimizer proposed by Kingma, Diederik, and Jimmy Ba\n",
    "\n",
    "# For smaller data, adam works well, for larger data sgd works\n",
    "\n",
    "#ann_model = MLPClassifier(hidden_layer_sizes=(100,10,50), activation='relu', solver='adam')        # 88.8%\n",
    "ann_model = MLPClassifier(hidden_layer_sizes=(100,10,50), activation='relu',\n",
    "                                                        solver='sgd', max_iter=400)               # 88.17%\n",
    "\n",
    "# Cross valid Accuracy\n",
    "cross_val_score(ann_model, x_train, y_train, cv=5).mean()\n"
   ]
  },
  {
   "cell_type": "code",
   "execution_count": null,
   "metadata": {},
   "outputs": [],
   "source": [
    "# Alpha Value Regularization Tuning (L2 penalty parameter,  default = .0001)\n",
    "\n",
    "ann_model = MLPClassifier(hidden_layer_sizes=(100,10,50), activation='relu', alpha=.001)        # 88.17%\n",
    "ann_model = MLPClassifier(hidden_layer_sizes=(100,10,50), activation='relu', alpha=11)        # 82.17%\n",
    "# Cross valid Accuracy\n",
    "cross_val_score(ann_model, x_train, y_train, cv=5).mean()\n"
   ]
  },
  {
   "cell_type": "code",
   "execution_count": null,
   "metadata": {},
   "outputs": [],
   "source": [
    "# Learning_rate - Learning rate schedule for weight updates. ( only used by sgd solver), default = 0.001\n",
    "# (1) - ‘invscaling’ gradually decreases the learning rate learning_rate_ :\n",
    "#         effective_learning_rate = learning_rate_init / pow(t, power_t)\n",
    "# (2) - ‘adaptive’ keeps the learning rate constant to ‘learning_rate_init’ as long as training loss keeps decreasing.\n",
    "#     - Each time two consecutive epochs fail to decrease training loss by at least tol, the current learning rate is divided by 5\n",
    "\n",
    "ann_model = MLPClassifier(hidden_layer_sizes=(100,10,50), activation='relu', learning_rate ='invscaling', solver='sgd',  max_iter=400 )        # 88.64%\n",
    "#ann_model = MLPClassifier(hidden_layer_sizes=(100,10,50), activation='relu', learning_rate ='adaptive', solver='sgd',  max_iter=400)           # 88.8%\n",
    "# Cross valid Accuracy\n",
    "cross_val_score(ann_model, x_train, y_train, cv=5).mean()\n"
   ]
  },
  {
   "cell_type": "code",
   "execution_count": null,
   "metadata": {},
   "outputs": [],
   "source": [
    "# batch_size - Size of minibatches for stochastic optimizers.. default ‘auto’\n",
    "#             - When set to “auto”, batch_size=min(200, n_samples)\n",
    "#             -  If the solver is ‘lbfgs’, the classifier will not use minibatch.\n",
    "\n",
    "ann_model = MLPClassifier(hidden_layer_sizes=(100,10,50), activation='relu', batch_size=400 )        # 88.64%\n",
    "\n",
    "# Cross valid Accuracy\n",
    "cross_val_score(ann_model, x_train, y_train, cv=5).mean()\n"
   ]
  },
  {
   "cell_type": "markdown",
   "metadata": {},
   "source": [
    "#### Grid Search Tuning"
   ]
  },
  {
   "cell_type": "code",
   "execution_count": null,
   "metadata": {},
   "outputs": [],
   "source": [
    "from sklearn.model_selection import GridSearchCV"
   ]
  },
  {
   "cell_type": "code",
   "execution_count": 26,
   "metadata": {},
   "outputs": [
    {
     "data": {
      "text/plain": [
       "GridSearchCV(cv=5, error_score='raise',\n",
       "       estimator=MLPClassifier(activation='relu', alpha=0.0001, batch_size='auto', beta_1=0.9,\n",
       "       beta_2=0.999, early_stopping=False, epsilon=1e-08,\n",
       "       hidden_layer_sizes=(100,), learning_rate='constant',\n",
       "       learning_rate_init=0.001, max_iter=200, momentum=0.9,\n",
       "       nesterovs_momentum=True, power_t=0.5, random_state=None,\n",
       "       shuffle=True, solver='adam', tol=0.0001, validation_fraction=0.1,\n",
       "       verbose=False, warm_start=False),\n",
       "       fit_params=None, iid=True, n_jobs=1,\n",
       "       param_grid={'hidden_layer_sizes': [(60, 10), (100, 60, 40)], 'activation': ['relu', 'logistic', 'tanh', 'identity'], 'max_iter': [400]},\n",
       "       pre_dispatch='2*n_jobs', refit=True, return_train_score='warn',\n",
       "       scoring='accuracy', verbose=0)"
      ]
     },
     "execution_count": 26,
     "metadata": {},
     "output_type": "execute_result"
    }
   ],
   "source": [
    "# ANN Model tuning Gridsearch\n",
    "ann_model = MLPClassifier()\n",
    "\n",
    "param_grid = { \"hidden_layer_sizes\" :[ (60,10), (100, 60, 40), ],\n",
    "                \"activation\"        : ['relu', 'logistic', 'tanh', 'identity'],\n",
    "                \"max_iter\"          :[400]\n",
    "                }\n",
    "\n",
    "optimized_ann = GridSearchCV(ann_model, param_grid, scoring='accuracy', cv=5 )\n",
    "optimized_ann.fit(x_train, y_train)"
   ]
  },
  {
   "cell_type": "code",
   "execution_count": 27,
   "metadata": {},
   "outputs": [
    {
     "name": "stderr",
     "output_type": "stream",
     "text": [
      "C:\\Users\\jp\\Anaconda3\\lib\\site-packages\\sklearn\\model_selection\\_search.py:761: DeprecationWarning: The grid_scores_ attribute was deprecated in version 0.18 in favor of the more elaborate cv_results_ attribute. The grid_scores_ attribute will not be available from 0.20\n",
      "  DeprecationWarning)\n"
     ]
    },
    {
     "data": {
      "text/plain": [
       "[mean: 0.88587, std: 0.00751, params: {'activation': 'relu', 'hidden_layer_sizes': (60, 10), 'max_iter': 400},\n",
       " mean: 0.88213, std: 0.00781, params: {'activation': 'relu', 'hidden_layer_sizes': (100, 60, 40), 'max_iter': 400},\n",
       " mean: 0.88187, std: 0.01760, params: {'activation': 'logistic', 'hidden_layer_sizes': (60, 10), 'max_iter': 400},\n",
       " mean: 0.88347, std: 0.01741, params: {'activation': 'logistic', 'hidden_layer_sizes': (100, 60, 40), 'max_iter': 400},\n",
       " mean: 0.88053, std: 0.01626, params: {'activation': 'tanh', 'hidden_layer_sizes': (60, 10), 'max_iter': 400},\n",
       " mean: 0.87333, std: 0.01311, params: {'activation': 'tanh', 'hidden_layer_sizes': (100, 60, 40), 'max_iter': 400},\n",
       " mean: 0.86293, std: 0.00813, params: {'activation': 'identity', 'hidden_layer_sizes': (60, 10), 'max_iter': 400},\n",
       " mean: 0.86373, std: 0.00593, params: {'activation': 'identity', 'hidden_layer_sizes': (100, 60, 40), 'max_iter': 400}]"
      ]
     },
     "execution_count": 27,
     "metadata": {},
     "output_type": "execute_result"
    }
   ],
   "source": [
    "optimized_ann.grid_scores_"
   ]
  },
  {
   "cell_type": "code",
   "execution_count": 28,
   "metadata": {},
   "outputs": [
    {
     "data": {
      "text/plain": [
       "0.8858666666666667"
      ]
     },
     "execution_count": 28,
     "metadata": {},
     "output_type": "execute_result"
    }
   ],
   "source": [
    "optimized_ann.best_score_"
   ]
  },
  {
   "cell_type": "code",
   "execution_count": null,
   "metadata": {},
   "outputs": [],
   "source": [
    "optimized_ann.best_params_"
   ]
  },
  {
   "cell_type": "code",
   "execution_count": null,
   "metadata": {},
   "outputs": [],
   "source": [
    "optimized_ann.best_estimator_"
   ]
  },
  {
   "cell_type": "code",
   "execution_count": null,
   "metadata": {},
   "outputs": [],
   "source": [
    "final_ANN = optimized_ann.best_estimator_"
   ]
  },
  {
   "cell_type": "code",
   "execution_count": null,
   "metadata": {},
   "outputs": [],
   "source": [
    "final_ANN"
   ]
  },
  {
   "cell_type": "code",
   "execution_count": null,
   "metadata": {},
   "outputs": [],
   "source": [
    "#final_ANN.fit(x_train, y_train)"
   ]
  },
  {
   "cell_type": "code",
   "execution_count": null,
   "metadata": {},
   "outputs": [],
   "source": [
    "y_pred = final_ANN.predict(x_test)"
   ]
  },
  {
   "cell_type": "code",
   "execution_count": null,
   "metadata": {},
   "outputs": [],
   "source": [
    "metrics.accuracy_score(y_pred, y_test)"
   ]
  },
  {
   "cell_type": "code",
   "execution_count": null,
   "metadata": {},
   "outputs": [],
   "source": [
    "# comparision of actual vs predicted\n",
    "comp_df = pd.DataFrame()\n",
    "\n",
    "comp_df['Actual'] = y_test\n",
    "comp_df['Predicted'] = y_pred\n",
    "\n",
    "comp_df.head(15)\n"
   ]
  },
  {
   "cell_type": "code",
   "execution_count": null,
   "metadata": {},
   "outputs": [],
   "source": [
    "# praportion of response class in test data\n",
    "y_test.value_counts()"
   ]
  },
  {
   "cell_type": "markdown",
   "metadata": {
    "collapsed": true
   },
   "source": [
    "- classification accuracy is the easiest way to understand the classification accuracy\n",
    "- but it does not tell the complete details about classification erros\n",
    "\n",
    "##### Confusion Metrics : describe the performance of the Model"
   ]
  },
  {
   "cell_type": "code",
   "execution_count": null,
   "metadata": {},
   "outputs": [],
   "source": [
    "print(metrics.confusion_matrix( y_test, y_pred))"
   ]
  },
  {
   "cell_type": "markdown",
   "metadata": {},
   "source": [
    "- Basic terminology\n",
    "    - True Positives (TP): correctly predicted that they do have diabetes\n",
    "    - True Negatives (TN): correctly predicted that they don't have diabetes\n",
    "    - False Positives (FP): incorrectly predicted that they do have diabetes (a \"Type I error\")\n",
    "    - False Negatives (FN): incorrectly predicted that they don't have diabetes (a \"Type II error\")"
   ]
  },
  {
   "cell_type": "code",
   "execution_count": null,
   "metadata": {},
   "outputs": [],
   "source": [
    "# save confusion matrix \n",
    "confusion = metrics.confusion_matrix(y_test, y_pred)\n",
    "TN = confusion[0, 0]\n",
    "FP = confusion[0, 1]\n",
    "FN = confusion[1, 0]\n",
    "TP = confusion[1, 1]\n",
    "\n",
    "print(\"TN - \", TN)\n",
    "print(\"FP - \", FP)\n",
    "print(\"FN - \", FN)\n",
    "print(\"TP - \", TP)"
   ]
  },
  {
   "cell_type": "code",
   "execution_count": null,
   "metadata": {},
   "outputs": [],
   "source": [
    "# Classification Accuracy : \n",
    "\n",
    "print((TP + TN) / float(TP + TN + FP + FN))\n",
    "print(metrics.accuracy_score(y_test, y_pred))"
   ]
  },
  {
   "cell_type": "code",
   "execution_count": null,
   "metadata": {},
   "outputs": [],
   "source": [
    "# Sensitivity(True positive Rate) : when the actual value is positive, how often the prediction correct \n",
    "# Sensitivity = TP / (TP + FN)\n",
    "\n",
    "print(TP / (TP + FN))\n",
    "print(metrics.recall_score(y_test, y_pred))"
   ]
  },
  {
   "cell_type": "code",
   "execution_count": null,
   "metadata": {},
   "outputs": [],
   "source": [
    "# Precision: When a positive value is predicted, how often is the prediction correct\n",
    "#    How precise is the classifier when predicting positive instances\n",
    "\n",
    "print(TP / (TP + FP))\n",
    "print(metrics.precision_score(y_test, y_pred))"
   ]
  },
  {
   "cell_type": "code",
   "execution_count": null,
   "metadata": {},
   "outputs": [],
   "source": [
    "# False Positive Rate : when actual value is negative, how often the prediction incorrect\n",
    "print(FP/(FP + TN))"
   ]
  },
  {
   "cell_type": "code",
   "execution_count": null,
   "metadata": {},
   "outputs": [],
   "source": [
    "# Specificity( 1 - FPR)  : when the actual value is negative, how often the prediction correct \n",
    "print( TN/ (TN + FP) )"
   ]
  }
 ],
 "metadata": {
  "kernelspec": {
   "display_name": "Python 3",
   "language": "python",
   "name": "python3"
  },
  "language_info": {
   "codemirror_mode": {
    "name": "ipython",
    "version": 3
   },
   "file_extension": ".py",
   "mimetype": "text/x-python",
   "name": "python",
   "nbconvert_exporter": "python",
   "pygments_lexer": "ipython3",
   "version": "3.7.0"
  }
 },
 "nbformat": 4,
 "nbformat_minor": 2
}
