{
 "cells": [
  {
   "cell_type": "code",
   "execution_count": 53,
   "metadata": {},
   "outputs": [],
   "source": [
    "import pandas as pd"
   ]
  },
  {
   "cell_type": "code",
   "execution_count": 54,
   "metadata": {},
   "outputs": [],
   "source": [
    "ipl_data=pd.read_excel(\"All_IPL_Match_Scores_raw.xlsx\")"
   ]
  },
  {
   "cell_type": "code",
   "execution_count": 55,
   "metadata": {},
   "outputs": [
    {
     "data": {
      "text/plain": [
       "Year\n",
       "2008    58\n",
       "2009    57\n",
       "2010    60\n",
       "2011    72\n",
       "2012    74\n",
       "2013    76\n",
       "2014    60\n",
       "2015    57\n",
       "dtype: int64"
      ]
     },
     "execution_count": 55,
     "metadata": {},
     "output_type": "execute_result"
    }
   ],
   "source": [
    "ipl_data.groupby('Year').size()"
   ]
  },
  {
   "cell_type": "markdown",
   "metadata": {},
   "source": [
    "## Medium level Question"
   ]
  },
  {
   "cell_type": "markdown",
   "metadata": {},
   "source": [
    "\"A close match is defined as when either of the following is satisfied:\n",
    "  (i)   the match is \"\"Tied\"\" (captured in Column Q) \n",
    " (ii)  Balls remaining at the end of the match (Column V) < =  3\n",
    " (iii) chasing team wins (Column Q) with  <= 1 Wickets remaining (Column R and S)  \n",
    " (iv)  chasing team loses (Column Q) by <= 5 runs. (Column R and S)\"\n",
    "Break out year by year how many close matches were played\n"
   ]
  },
  {
   "cell_type": "code",
   "execution_count": 56,
   "metadata": {},
   "outputs": [],
   "source": [
    "#create data frame for output\n",
    "close_match=pd.DataFrame()"
   ]
  },
  {
   "cell_type": "code",
   "execution_count": 57,
   "metadata": {},
   "outputs": [],
   "source": [
    "#take or operation of all 4 condition of question to get close matches\n",
    "close_match[\"No of close matches\"]=ipl_data[ ((ipl_data.Win_Type==\"wicket\") & (ipl_data.Winning_Margin<=1 )) | (ipl_data.Winning_Team==\"Tied\") | (ipl_data.Balls_Remaining<3)|((ipl_data.Winning_Team==\"FirstBatting\") & (ipl_data.Winning_Margin<=5))].groupby('Year').size()"
   ]
  },
  {
   "cell_type": "code",
   "execution_count": 58,
   "metadata": {},
   "outputs": [
    {
     "data": {
      "text/html": [
       "<div>\n",
       "<style scoped>\n",
       "    .dataframe tbody tr th:only-of-type {\n",
       "        vertical-align: middle;\n",
       "    }\n",
       "\n",
       "    .dataframe tbody tr th {\n",
       "        vertical-align: top;\n",
       "    }\n",
       "\n",
       "    .dataframe thead th {\n",
       "        text-align: right;\n",
       "    }\n",
       "</style>\n",
       "<table border=\"1\" class=\"dataframe\">\n",
       "  <thead>\n",
       "    <tr style=\"text-align: right;\">\n",
       "      <th></th>\n",
       "      <th>No of close matches</th>\n",
       "    </tr>\n",
       "    <tr>\n",
       "      <th>Year</th>\n",
       "      <th></th>\n",
       "    </tr>\n",
       "  </thead>\n",
       "  <tbody>\n",
       "    <tr>\n",
       "      <th>2008</th>\n",
       "      <td>26</td>\n",
       "    </tr>\n",
       "    <tr>\n",
       "      <th>2009</th>\n",
       "      <td>29</td>\n",
       "    </tr>\n",
       "    <tr>\n",
       "      <th>2010</th>\n",
       "      <td>27</td>\n",
       "    </tr>\n",
       "    <tr>\n",
       "      <th>2011</th>\n",
       "      <td>30</td>\n",
       "    </tr>\n",
       "    <tr>\n",
       "      <th>2012</th>\n",
       "      <td>44</td>\n",
       "    </tr>\n",
       "    <tr>\n",
       "      <th>2013</th>\n",
       "      <td>37</td>\n",
       "    </tr>\n",
       "    <tr>\n",
       "      <th>2014</th>\n",
       "      <td>28</td>\n",
       "    </tr>\n",
       "    <tr>\n",
       "      <th>2015</th>\n",
       "      <td>38</td>\n",
       "    </tr>\n",
       "  </tbody>\n",
       "</table>\n",
       "</div>"
      ],
      "text/plain": [
       "      No of close matches\n",
       "Year                     \n",
       "2008                   26\n",
       "2009                   29\n",
       "2010                   27\n",
       "2011                   30\n",
       "2012                   44\n",
       "2013                   37\n",
       "2014                   28\n",
       "2015                   38"
      ]
     },
     "execution_count": 58,
     "metadata": {},
     "output_type": "execute_result"
    }
   ],
   "source": [
    "close_match"
   ]
  },
  {
   "cell_type": "markdown",
   "metadata": {},
   "source": [
    "Q2.For the 4 teams listed, determine which team has won the most percentage of their matches batting first across all IPLs. To do this, compute for each team: \n",
    "(i)   A=total number of matches won by the team \n",
    "(ii)  B=how many matches they won batting first\n",
    "Percent won batting first = (B / A) *100\n",
    "\n",
    "Team\tPercent won batting first\n",
    "Chennai\t?\n",
    "Hyderabad\t?\n",
    "Mumbai\t?\n",
    "Kolkata\t?"
   ]
  },
  {
   "cell_type": "code",
   "execution_count": 75,
   "metadata": {},
   "outputs": [],
   "source": [
    "close_match.to_excel(\"close_matches.xlsx\")"
   ]
  },
  {
   "cell_type": "code",
   "execution_count": 59,
   "metadata": {},
   "outputs": [
    {
     "data": {
      "text/plain": [
       "Chennai       79\n",
       "Mumbai        73\n",
       "Rajasthan     61\n",
       "Bangalore     60\n",
       "Kolkata       60\n",
       "Punjab        57\n",
       "Hyderabad     51\n",
       "Delhi         49\n",
       "Pune          12\n",
       "Match tied     6\n",
       "Kochi          6\n",
       "Name: Winner, dtype: int64"
      ]
     },
     "execution_count": 59,
     "metadata": {},
     "output_type": "execute_result"
    }
   ],
   "source": [
    "ipl_data[\"Winner\"].value_counts()"
   ]
  },
  {
   "cell_type": "code",
   "execution_count": 60,
   "metadata": {},
   "outputs": [],
   "source": [
    "A_csk=ipl_data[ipl_data.Winner==\"Chennai\"].shape[0]"
   ]
  },
  {
   "cell_type": "code",
   "execution_count": 61,
   "metadata": {},
   "outputs": [
    {
     "data": {
      "text/plain": [
       "79"
      ]
     },
     "execution_count": 61,
     "metadata": {},
     "output_type": "execute_result"
    }
   ],
   "source": [
    "A_csk"
   ]
  },
  {
   "cell_type": "code",
   "execution_count": 62,
   "metadata": {},
   "outputs": [
    {
     "data": {
      "text/plain": [
       "45"
      ]
     },
     "execution_count": 62,
     "metadata": {},
     "output_type": "execute_result"
    }
   ],
   "source": [
    "B_csk=ipl_data[(ipl_data.Winner==\"Chennai\") & (ipl_data.Team_Batting_First==\"Chennai\")].shape[0]\n",
    "B_csk"
   ]
  },
  {
   "cell_type": "code",
   "execution_count": 63,
   "metadata": {},
   "outputs": [
    {
     "data": {
      "text/plain": [
       "56.9620253164557"
      ]
     },
     "execution_count": 63,
     "metadata": {},
     "output_type": "execute_result"
    }
   ],
   "source": [
    "csk=(B_csk/A_csk)*100\n",
    "csk"
   ]
  },
  {
   "cell_type": "code",
   "execution_count": 64,
   "metadata": {},
   "outputs": [
    {
     "data": {
      "text/plain": [
       "51"
      ]
     },
     "execution_count": 64,
     "metadata": {},
     "output_type": "execute_result"
    }
   ],
   "source": [
    "A_hdb=ipl_data[ipl_data.Winner==\"Hyderabad\"].shape[0]\n",
    "A_hdb"
   ]
  },
  {
   "cell_type": "code",
   "execution_count": 65,
   "metadata": {},
   "outputs": [
    {
     "data": {
      "text/plain": [
       "31"
      ]
     },
     "execution_count": 65,
     "metadata": {},
     "output_type": "execute_result"
    }
   ],
   "source": [
    "B_hdb=ipl_data[(ipl_data.Winner==\"Hyderabad\") & (ipl_data.Team_Batting_First==\"Hyderabad\")].shape[0]\n",
    "B_hdb"
   ]
  },
  {
   "cell_type": "code",
   "execution_count": 66,
   "metadata": {},
   "outputs": [
    {
     "data": {
      "text/plain": [
       "60.78431372549019"
      ]
     },
     "execution_count": 66,
     "metadata": {},
     "output_type": "execute_result"
    }
   ],
   "source": [
    "hdb=(B_hdb/A_hdb)*100\n",
    "hdb"
   ]
  },
  {
   "cell_type": "code",
   "execution_count": 67,
   "metadata": {},
   "outputs": [
    {
     "data": {
      "text/plain": [
       "60"
      ]
     },
     "execution_count": 67,
     "metadata": {},
     "output_type": "execute_result"
    }
   ],
   "source": [
    "A_kkr=ipl_data[ipl_data.Winner==\"Kolkata\"].shape[0]\n",
    "A_kkr"
   ]
  },
  {
   "cell_type": "code",
   "execution_count": 68,
   "metadata": {},
   "outputs": [
    {
     "data": {
      "text/plain": [
       "25"
      ]
     },
     "execution_count": 68,
     "metadata": {},
     "output_type": "execute_result"
    }
   ],
   "source": [
    "B_kkr=ipl_data[(ipl_data.Winner==\"Kolkata\") & (ipl_data.Team_Batting_First==\"Kolkata\")].shape[0]\n",
    "B_kkr"
   ]
  },
  {
   "cell_type": "code",
   "execution_count": 69,
   "metadata": {},
   "outputs": [
    {
     "data": {
      "text/plain": [
       "41.66666666666667"
      ]
     },
     "execution_count": 69,
     "metadata": {},
     "output_type": "execute_result"
    }
   ],
   "source": [
    "kkr=(B_kkr/A_kkr)*100\n",
    "kkr"
   ]
  },
  {
   "cell_type": "code",
   "execution_count": 70,
   "metadata": {},
   "outputs": [
    {
     "data": {
      "text/plain": [
       "73"
      ]
     },
     "execution_count": 70,
     "metadata": {},
     "output_type": "execute_result"
    }
   ],
   "source": [
    "A_mi=ipl_data[ipl_data.Winner==\"Mumbai\"].shape[0]\n",
    "A_mi"
   ]
  },
  {
   "cell_type": "code",
   "execution_count": 71,
   "metadata": {},
   "outputs": [
    {
     "data": {
      "text/plain": [
       "41"
      ]
     },
     "execution_count": 71,
     "metadata": {},
     "output_type": "execute_result"
    }
   ],
   "source": [
    "B_mi=ipl_data[(ipl_data.Winner==\"Mumbai\") & (ipl_data.Team_Batting_First==\"Mumbai\")].shape[0]\n",
    "B_mi"
   ]
  },
  {
   "cell_type": "code",
   "execution_count": 72,
   "metadata": {},
   "outputs": [
    {
     "data": {
      "text/plain": [
       "56.16438356164384"
      ]
     },
     "execution_count": 72,
     "metadata": {},
     "output_type": "execute_result"
    }
   ],
   "source": [
    "mi=(B_mi/A_mi)*100\n",
    "mi"
   ]
  },
  {
   "cell_type": "markdown",
   "metadata": {},
   "source": [
    "## making dataframe"
   ]
  },
  {
   "cell_type": "code",
   "execution_count": 73,
   "metadata": {},
   "outputs": [
    {
     "data": {
      "text/html": [
       "<div>\n",
       "<style scoped>\n",
       "    .dataframe tbody tr th:only-of-type {\n",
       "        vertical-align: middle;\n",
       "    }\n",
       "\n",
       "    .dataframe tbody tr th {\n",
       "        vertical-align: top;\n",
       "    }\n",
       "\n",
       "    .dataframe thead th {\n",
       "        text-align: right;\n",
       "    }\n",
       "</style>\n",
       "<table border=\"1\" class=\"dataframe\">\n",
       "  <thead>\n",
       "    <tr style=\"text-align: right;\">\n",
       "      <th></th>\n",
       "      <th>Team</th>\n",
       "      <th>bat_fisrt_win%</th>\n",
       "    </tr>\n",
       "  </thead>\n",
       "  <tbody>\n",
       "    <tr>\n",
       "      <th>0</th>\n",
       "      <td>Chennai</td>\n",
       "      <td>56.962025</td>\n",
       "    </tr>\n",
       "    <tr>\n",
       "      <th>1</th>\n",
       "      <td>Hyderabad</td>\n",
       "      <td>60.784314</td>\n",
       "    </tr>\n",
       "    <tr>\n",
       "      <th>2</th>\n",
       "      <td>Kolkata</td>\n",
       "      <td>41.666667</td>\n",
       "    </tr>\n",
       "    <tr>\n",
       "      <th>3</th>\n",
       "      <td>Mumbai</td>\n",
       "      <td>56.164384</td>\n",
       "    </tr>\n",
       "  </tbody>\n",
       "</table>\n",
       "</div>"
      ],
      "text/plain": [
       "        Team  bat_fisrt_win%\n",
       "0    Chennai       56.962025\n",
       "1  Hyderabad       60.784314\n",
       "2    Kolkata       41.666667\n",
       "3     Mumbai       56.164384"
      ]
     },
     "execution_count": 73,
     "metadata": {},
     "output_type": "execute_result"
    }
   ],
   "source": [
    "data = [['Chennai',csk],['Hyderabad',hdb],['Kolkata',kkr],[\"Mumbai\",mi]]\n",
    "df = pd.DataFrame(data,columns=['Team','bat_fisrt_win%'])\n",
    "df"
   ]
  },
  {
   "cell_type": "code",
   "execution_count": 74,
   "metadata": {},
   "outputs": [],
   "source": [
    "#dataframe is saved to current directory\n",
    "df.to_excel(\"bat_first_win.xlsx\")"
   ]
  },
  {
   "cell_type": "markdown",
   "metadata": {},
   "source": [
    "#### complex level questions\n",
    "Q1.Carefully see columns W to AO and answer following insights\n",
    "Identify potential \"odd\" scoring patterns\n",
    "(a) Identify a match where team batting second had 6 wickets in hand at 15 overs stage with 33 runs to score of last 5 overs….the team still lost.\n"
   ]
  },
  {
   "cell_type": "code",
   "execution_count": 89,
   "metadata": {},
   "outputs": [],
   "source": [
    "team=ipl_data[(ipl_data.Winning_Team!=\"Chasing\") &(ipl_data.Bat_Second_15_ov_wkts_lost==4)&((ipl_data.Bat_Second_15_ov_Req_RR)*5==33) ]"
   ]
  },
  {
   "cell_type": "code",
   "execution_count": 90,
   "metadata": {},
   "outputs": [
    {
     "data": {
      "text/html": [
       "<div>\n",
       "<style scoped>\n",
       "    .dataframe tbody tr th:only-of-type {\n",
       "        vertical-align: middle;\n",
       "    }\n",
       "\n",
       "    .dataframe tbody tr th {\n",
       "        vertical-align: top;\n",
       "    }\n",
       "\n",
       "    .dataframe thead th {\n",
       "        text-align: right;\n",
       "    }\n",
       "</style>\n",
       "<table border=\"1\" class=\"dataframe\">\n",
       "  <thead>\n",
       "    <tr style=\"text-align: right;\">\n",
       "      <th></th>\n",
       "      <th>Match_Number</th>\n",
       "      <th>Match</th>\n",
       "      <th>Date</th>\n",
       "      <th>Year</th>\n",
       "      <th>Venue</th>\n",
       "      <th>Team_Batting_First</th>\n",
       "      <th>Team_Batting_Second</th>\n",
       "      <th>Bat_First_Runs_Scored</th>\n",
       "      <th>Bat_First_Wickets_Lost</th>\n",
       "      <th>Bat_First_Overs_Consumed</th>\n",
       "      <th>...</th>\n",
       "      <th>Bat_Second_10_ov_score</th>\n",
       "      <th>Bat_Second_10_ov_wkts_lost</th>\n",
       "      <th>Bat_Second_10_ov_Req_RR</th>\n",
       "      <th>Bat_Second_15_ov_score</th>\n",
       "      <th>Bat_Second_15_ov_wkts_lost</th>\n",
       "      <th>Bat_Second_15_ov_Req_RR</th>\n",
       "      <th>Bat_Second_20_ov_score</th>\n",
       "      <th>Bat_Second_20_ov_wkts_lost</th>\n",
       "      <th>Match_Time</th>\n",
       "      <th>Duckworth Lewis Used</th>\n",
       "    </tr>\n",
       "  </thead>\n",
       "  <tbody>\n",
       "    <tr>\n",
       "      <th>342</th>\n",
       "      <td>343</td>\n",
       "      <td>League Match</td>\n",
       "      <td>Apr 17</td>\n",
       "      <td>2013</td>\n",
       "      <td>Pune</td>\n",
       "      <td>Hyderabad</td>\n",
       "      <td>Pune</td>\n",
       "      <td>119</td>\n",
       "      <td>8</td>\n",
       "      <td>20.0</td>\n",
       "      <td>...</td>\n",
       "      <td>65.0</td>\n",
       "      <td>3.0</td>\n",
       "      <td>5.5</td>\n",
       "      <td>87.0</td>\n",
       "      <td>4.0</td>\n",
       "      <td>6.6</td>\n",
       "      <td>NaN</td>\n",
       "      <td>NaN</td>\n",
       "      <td>Afternoon</td>\n",
       "      <td>NaN</td>\n",
       "    </tr>\n",
       "  </tbody>\n",
       "</table>\n",
       "<p>1 rows × 43 columns</p>\n",
       "</div>"
      ],
      "text/plain": [
       "     Match_Number         Match    Date  Year Venue Team_Batting_First  \\\n",
       "342           343  League Match  Apr 17  2013  Pune          Hyderabad   \n",
       "\n",
       "    Team_Batting_Second  Bat_First_Runs_Scored  Bat_First_Wickets_Lost  \\\n",
       "342                Pune                    119                       8   \n",
       "\n",
       "     Bat_First_Overs_Consumed          ...           Bat_Second_10_ov_score  \\\n",
       "342                      20.0          ...                             65.0   \n",
       "\n",
       "     Bat_Second_10_ov_wkts_lost  Bat_Second_10_ov_Req_RR  \\\n",
       "342                         3.0                      5.5   \n",
       "\n",
       "     Bat_Second_15_ov_score  Bat_Second_15_ov_wkts_lost  \\\n",
       "342                    87.0                         4.0   \n",
       "\n",
       "    Bat_Second_15_ov_Req_RR Bat_Second_20_ov_score  \\\n",
       "342                     6.6                    NaN   \n",
       "\n",
       "     Bat_Second_20_ov_wkts_lost Match_Time  Duckworth Lewis Used  \n",
       "342                         NaN  Afternoon                   NaN  \n",
       "\n",
       "[1 rows x 43 columns]"
      ]
     },
     "execution_count": 90,
     "metadata": {},
     "output_type": "execute_result"
    }
   ],
   "source": [
    "team"
   ]
  },
  {
   "cell_type": "code",
   "execution_count": 95,
   "metadata": {},
   "outputs": [
    {
     "data": {
      "text/plain": [
       "342    Apr 17\n",
       "Name: Date, dtype: object"
      ]
     },
     "execution_count": 95,
     "metadata": {},
     "output_type": "execute_result"
    }
   ],
   "source": [
    "d=team[\"Date\"]\n",
    "d\n"
   ]
  },
  {
   "cell_type": "code",
   "execution_count": 97,
   "metadata": {},
   "outputs": [
    {
     "data": {
      "text/plain": [
       "342    Hyderabad\n",
       "Name: Team_Batting_First, dtype: object"
      ]
     },
     "execution_count": 97,
     "metadata": {},
     "output_type": "execute_result"
    }
   ],
   "source": [
    "f_bat=team[\"Team_Batting_First\"]\n",
    "f_bat"
   ]
  },
  {
   "cell_type": "code",
   "execution_count": 99,
   "metadata": {},
   "outputs": [
    {
     "data": {
      "text/plain": [
       "342    Pune\n",
       "Name: Team_Batting_Second, dtype: object"
      ]
     },
     "execution_count": 99,
     "metadata": {},
     "output_type": "execute_result"
    }
   ],
   "source": [
    "s_bat=team[\"Team_Batting_Second\"]\n",
    "s_bat"
   ]
  },
  {
   "cell_type": "code",
   "execution_count": 101,
   "metadata": {},
   "outputs": [],
   "source": [
    "match_summary=pd.DataFrame()\n"
   ]
  },
  {
   "cell_type": "code",
   "execution_count": 104,
   "metadata": {},
   "outputs": [],
   "source": [
    "match_summary['Match No']=team[\"Match_Number\"]\n",
    "match_summary['Teambattingfirst']=team[\"Team_Batting_First\"]\n",
    "match_summary['Teambattingsecond']=team[\"Team_Batting_Second\"]\n",
    "match_summary['Date']=team[\"Date\"]"
   ]
  },
  {
   "cell_type": "code",
   "execution_count": 105,
   "metadata": {},
   "outputs": [
    {
     "data": {
      "text/html": [
       "<div>\n",
       "<style scoped>\n",
       "    .dataframe tbody tr th:only-of-type {\n",
       "        vertical-align: middle;\n",
       "    }\n",
       "\n",
       "    .dataframe tbody tr th {\n",
       "        vertical-align: top;\n",
       "    }\n",
       "\n",
       "    .dataframe thead th {\n",
       "        text-align: right;\n",
       "    }\n",
       "</style>\n",
       "<table border=\"1\" class=\"dataframe\">\n",
       "  <thead>\n",
       "    <tr style=\"text-align: right;\">\n",
       "      <th></th>\n",
       "      <th>Match No</th>\n",
       "      <th>Teambattingfirst</th>\n",
       "      <th>Teambattingsecond</th>\n",
       "      <th>Date</th>\n",
       "    </tr>\n",
       "  </thead>\n",
       "  <tbody>\n",
       "    <tr>\n",
       "      <th>342</th>\n",
       "      <td>343</td>\n",
       "      <td>Hyderabad</td>\n",
       "      <td>Pune</td>\n",
       "      <td>Apr 17</td>\n",
       "    </tr>\n",
       "  </tbody>\n",
       "</table>\n",
       "</div>"
      ],
      "text/plain": [
       "     Match No Teambattingfirst Teambattingsecond    Date\n",
       "342       343        Hyderabad              Pune  Apr 17"
      ]
     },
     "execution_count": 105,
     "metadata": {},
     "output_type": "execute_result"
    }
   ],
   "source": [
    "match_summary"
   ]
  },
  {
   "cell_type": "code",
   "execution_count": 106,
   "metadata": {},
   "outputs": [],
   "source": [
    "match_summary.to_excel(\"match_summary.xlsx\")"
   ]
  },
  {
   "cell_type": "markdown",
   "metadata": {},
   "source": [
    "Q1.(b)(b) Identify matches where team batting first had only lost 2 wickets at 15 overs stage but then scored less than 25 runs in the last 5 overs!\n"
   ]
  },
  {
   "cell_type": "code",
   "execution_count": 108,
   "metadata": {},
   "outputs": [
    {
     "data": {
      "text/html": [
       "<div>\n",
       "<style scoped>\n",
       "    .dataframe tbody tr th:only-of-type {\n",
       "        vertical-align: middle;\n",
       "    }\n",
       "\n",
       "    .dataframe tbody tr th {\n",
       "        vertical-align: top;\n",
       "    }\n",
       "\n",
       "    .dataframe thead th {\n",
       "        text-align: right;\n",
       "    }\n",
       "</style>\n",
       "<table border=\"1\" class=\"dataframe\">\n",
       "  <thead>\n",
       "    <tr style=\"text-align: right;\">\n",
       "      <th></th>\n",
       "      <th>Match_Number</th>\n",
       "      <th>Match</th>\n",
       "      <th>Date</th>\n",
       "      <th>Year</th>\n",
       "      <th>Venue</th>\n",
       "      <th>Team_Batting_First</th>\n",
       "      <th>Team_Batting_Second</th>\n",
       "      <th>Bat_First_Runs_Scored</th>\n",
       "      <th>Bat_First_Wickets_Lost</th>\n",
       "      <th>Bat_First_Overs_Consumed</th>\n",
       "      <th>...</th>\n",
       "      <th>Bat_Second_10_ov_score</th>\n",
       "      <th>Bat_Second_10_ov_wkts_lost</th>\n",
       "      <th>Bat_Second_10_ov_Req_RR</th>\n",
       "      <th>Bat_Second_15_ov_score</th>\n",
       "      <th>Bat_Second_15_ov_wkts_lost</th>\n",
       "      <th>Bat_Second_15_ov_Req_RR</th>\n",
       "      <th>Bat_Second_20_ov_score</th>\n",
       "      <th>Bat_Second_20_ov_wkts_lost</th>\n",
       "      <th>Match_Time</th>\n",
       "      <th>Duckworth Lewis Used</th>\n",
       "    </tr>\n",
       "  </thead>\n",
       "  <tbody>\n",
       "    <tr>\n",
       "      <th>100</th>\n",
       "      <td>101</td>\n",
       "      <td>League Match</td>\n",
       "      <td>May 14</td>\n",
       "      <td>2009</td>\n",
       "      <td>Durban</td>\n",
       "      <td>Rajasthan</td>\n",
       "      <td>Mumbai</td>\n",
       "      <td>145</td>\n",
       "      <td>7</td>\n",
       "      <td>20.0</td>\n",
       "      <td>...</td>\n",
       "      <td>54.0</td>\n",
       "      <td>3.0</td>\n",
       "      <td>9.2</td>\n",
       "      <td>98.0</td>\n",
       "      <td>5.0</td>\n",
       "      <td>9.6</td>\n",
       "      <td>143.0</td>\n",
       "      <td>10.0</td>\n",
       "      <td>Evening</td>\n",
       "      <td>NaN</td>\n",
       "    </tr>\n",
       "  </tbody>\n",
       "</table>\n",
       "<p>1 rows × 43 columns</p>\n",
       "</div>"
      ],
      "text/plain": [
       "     Match_Number         Match    Date  Year   Venue Team_Batting_First  \\\n",
       "100           101  League Match  May 14  2009  Durban          Rajasthan   \n",
       "\n",
       "    Team_Batting_Second  Bat_First_Runs_Scored  Bat_First_Wickets_Lost  \\\n",
       "100              Mumbai                    145                       7   \n",
       "\n",
       "     Bat_First_Overs_Consumed          ...           Bat_Second_10_ov_score  \\\n",
       "100                      20.0          ...                             54.0   \n",
       "\n",
       "     Bat_Second_10_ov_wkts_lost  Bat_Second_10_ov_Req_RR  \\\n",
       "100                         3.0                      9.2   \n",
       "\n",
       "     Bat_Second_15_ov_score  Bat_Second_15_ov_wkts_lost  \\\n",
       "100                    98.0                         5.0   \n",
       "\n",
       "    Bat_Second_15_ov_Req_RR Bat_Second_20_ov_score  \\\n",
       "100                     9.6                  143.0   \n",
       "\n",
       "     Bat_Second_20_ov_wkts_lost Match_Time  Duckworth Lewis Used  \n",
       "100                        10.0    Evening                   NaN  \n",
       "\n",
       "[1 rows x 43 columns]"
      ]
     },
     "execution_count": 108,
     "metadata": {},
     "output_type": "execute_result"
    }
   ],
   "source": [
    "team1=ipl_data[(ipl_data.Bat_First_15_ov_wkts_lost==2)&((ipl_data.Bat_First_20_ov_score-ipl_data.Bat_First_15_ov_score)<=25) ]\n",
    "team1"
   ]
  },
  {
   "cell_type": "code",
   "execution_count": 111,
   "metadata": {},
   "outputs": [],
   "source": [
    "match_summary1=pd.DataFrame()\n",
    "match_summary1['Match No']=team1[\"Match_Number\"]\n",
    "match_summary1['Teambattingfirst']=team1[\"Team_Batting_First\"]\n",
    "match_summary1['Teambattingsecond']=team1[\"Team_Batting_Second\"]\n",
    "match_summary1['Date']=team1[\"Date\"]\n"
   ]
  },
  {
   "cell_type": "code",
   "execution_count": 112,
   "metadata": {},
   "outputs": [
    {
     "data": {
      "text/html": [
       "<div>\n",
       "<style scoped>\n",
       "    .dataframe tbody tr th:only-of-type {\n",
       "        vertical-align: middle;\n",
       "    }\n",
       "\n",
       "    .dataframe tbody tr th {\n",
       "        vertical-align: top;\n",
       "    }\n",
       "\n",
       "    .dataframe thead th {\n",
       "        text-align: right;\n",
       "    }\n",
       "</style>\n",
       "<table border=\"1\" class=\"dataframe\">\n",
       "  <thead>\n",
       "    <tr style=\"text-align: right;\">\n",
       "      <th></th>\n",
       "      <th>Match No</th>\n",
       "      <th>Teambattingfirst</th>\n",
       "      <th>Teambattingsecond</th>\n",
       "      <th>Date</th>\n",
       "    </tr>\n",
       "  </thead>\n",
       "  <tbody>\n",
       "    <tr>\n",
       "      <th>100</th>\n",
       "      <td>101</td>\n",
       "      <td>Rajasthan</td>\n",
       "      <td>Mumbai</td>\n",
       "      <td>May 14</td>\n",
       "    </tr>\n",
       "  </tbody>\n",
       "</table>\n",
       "</div>"
      ],
      "text/plain": [
       "     Match No Teambattingfirst Teambattingsecond    Date\n",
       "100       101        Rajasthan            Mumbai  May 14"
      ]
     },
     "execution_count": 112,
     "metadata": {},
     "output_type": "execute_result"
    }
   ],
   "source": [
    "match_summary1"
   ]
  },
  {
   "cell_type": "code",
   "execution_count": 113,
   "metadata": {},
   "outputs": [],
   "source": [
    "match_summary1.to_excel(\"match_summary1.xlsx\")"
   ]
  }
 ],
 "metadata": {
  "kernelspec": {
   "display_name": "Python 3",
   "language": "python",
   "name": "python3"
  },
  "language_info": {
   "codemirror_mode": {
    "name": "ipython",
    "version": 3
   },
   "file_extension": ".py",
   "mimetype": "text/x-python",
   "name": "python",
   "nbconvert_exporter": "python",
   "pygments_lexer": "ipython3",
   "version": "3.7.0"
  }
 },
 "nbformat": 4,
 "nbformat_minor": 2
}
