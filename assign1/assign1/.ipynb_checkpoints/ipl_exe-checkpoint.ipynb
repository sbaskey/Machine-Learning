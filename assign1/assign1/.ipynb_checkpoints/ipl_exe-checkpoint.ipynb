{
 "cells": [
  {
   "cell_type": "code",
   "execution_count": 1,
   "metadata": {},
   "outputs": [],
   "source": [
    "import pandas as pd"
   ]
  },
  {
   "cell_type": "code",
   "execution_count": 3,
   "metadata": {},
   "outputs": [],
   "source": [
    "ipl_data=pd.read_excel(\"All_IPL_Match_Scores_raw.xlsx\")"
   ]
  },
  {
   "cell_type": "markdown",
   "metadata": {},
   "source": [
    "ipl_data.groupby('Year').size()"
   ]
  },
  {
   "cell_type": "markdown",
   "metadata": {},
   "source": [
    "## Medium level Question"
   ]
  },
  {
   "attachments": {},
   "cell_type": "markdown",
   "metadata": {},
   "source": [
    "\"A close match is defined as when either of the following is satisfied:\n",
    "  (i)   the match is \"\"Tied\"\" (captured in Column Q) \n",
    " (ii)  Balls remaining at the end of the match (Column V) < =  3\n",
    " (iii) chasing team wins (Column Q) with  <= 1 Wickets remaining (Column R and S)  \n",
    " (iv)  chasing team loses (Column Q) by <= 5 runs. (Column R and S)\"\n"
   ]
  }
 ],
 "metadata": {
  "kernelspec": {
   "display_name": "Python 3",
   "language": "python",
   "name": "python3"
  },
  "language_info": {
   "codemirror_mode": {
    "name": "ipython",
    "version": 3
   },
   "file_extension": ".py",
   "mimetype": "text/x-python",
   "name": "python",
   "nbconvert_exporter": "python",
   "pygments_lexer": "ipython3",
   "version": "3.7.0"
  }
 },
 "nbformat": 4,
 "nbformat_minor": 2
}
